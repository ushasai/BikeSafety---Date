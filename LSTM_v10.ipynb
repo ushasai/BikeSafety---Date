{
  "cells": [
    {
      "cell_type": "code",
      "execution_count": null,
      "metadata": {
        "colab": {
          "base_uri": "https://localhost:8080/"
        },
        "id": "s-mbFZyLBwwH",
        "outputId": "3ef6f8e8-06e0-43a7-bd88-f56de0237c32"
      },
      "outputs": [
        {
          "name": "stdout",
          "output_type": "stream",
          "text": [
            "Python 3.7.13\n"
          ]
        }
      ],
      "source": [
        "!python --version"
      ]
    },
    {
      "cell_type": "code",
      "execution_count": null,
      "metadata": {
        "colab": {
          "base_uri": "https://localhost:8080/",
          "height": 36
        },
        "id": "WPlhyoT-pkgI",
        "outputId": "16ecd8d8-0e26-403c-c0e4-e7cdfe1e4e2b"
      },
      "outputs": [
        {
          "data": {
            "application/vnd.google.colaboratory.intrinsic+json": {
              "type": "string"
            },
            "text/plain": [
              "'2.8.2'"
            ]
          },
          "execution_count": 5,
          "metadata": {},
          "output_type": "execute_result"
        }
      ],
      "source": [
        "tf.__version__"
      ]
    },
    {
      "cell_type": "code",
      "execution_count": null,
      "metadata": {
        "colab": {
          "base_uri": "https://localhost:8080/",
          "height": 36
        },
        "id": "SknwIEr5ps0A",
        "outputId": "b9d5058d-ff78-478e-c92c-1ca92718a49b"
      },
      "outputs": [
        {
          "data": {
            "application/vnd.google.colaboratory.intrinsic+json": {
              "type": "string"
            },
            "text/plain": [
              "'2.8.0'"
            ]
          },
          "execution_count": 8,
          "metadata": {},
          "output_type": "execute_result"
        }
      ],
      "source": [
        "keras.__version__"
      ]
    },
    {
      "cell_type": "code",
      "execution_count": null,
      "metadata": {
        "colab": {
          "base_uri": "https://localhost:8080/",
          "height": 36
        },
        "id": "FhuQYcnB7yt0",
        "outputId": "6b931a1e-e951-40fe-c18b-ef2a81253e8b"
      },
      "outputs": [
        {
          "data": {
            "application/vnd.google.colaboratory.intrinsic+json": {
              "type": "string"
            },
            "text/plain": [
              "'1.21.6'"
            ]
          },
          "execution_count": 11,
          "metadata": {},
          "output_type": "execute_result"
        }
      ],
      "source": [
        "np.__version__"
      ]
    },
    {
      "cell_type": "code",
      "execution_count": null,
      "metadata": {
        "id": "FepjAThWT4Py"
      },
      "outputs": [],
      "source": [
        "import tensorflow as tf\n",
        "from tensorflow import keras\n",
        "import numpy as np \n",
        "import pandas as pd\n",
        "import matplotlib.pyplot as plt\n",
        "import seaborn as sns\n",
        "import warnings\n",
        "from scipy import stats\n",
        "from keras.models import Sequential\n",
        "from keras.layers import LSTM, Dense, Flatten, Dropout\n",
        "warnings.filterwarnings('ignore')"
      ]
    },
    {
      "cell_type": "code",
      "execution_count": null,
      "metadata": {
        "id": "mDVZzdUM43x0"
      },
      "outputs": [],
      "source": []
    },
    {
      "cell_type": "code",
      "execution_count": null,
      "metadata": {
        "colab": {
          "base_uri": "https://localhost:8080/",
          "height": 424
        },
        "id": "2PYL7P9rT_Vr",
        "outputId": "ae51acea-3a91-46c2-ed9a-5a533c2b7585"
      },
      "outputs": [
        {
          "output_type": "execute_result",
          "data": {
            "text/plain": [
              "          Ax    Ay    Az    Gx     Gy    Gz       Lat        Long  Speed  \\\n",
              "0      -0.10  0.01  1.30  4.46  24.96  3.97  17.445822  78.350881   1.14   \n",
              "1       0.13 -0.07  1.24  0.92  21.73  4.70  17.445822  78.350881   1.14   \n",
              "2      -0.07  0.08  1.18  5.19  21.97  5.00  17.445822  78.350881   1.14   \n",
              "3       0.20 -0.07  1.22  0.55  21.24  5.98  17.445822  78.350881   1.14   \n",
              "4      -0.16  0.05  1.08  1.59  21.55  6.41  17.445822  78.350881   1.14   \n",
              "...      ...   ...   ...   ...    ...   ...        ...        ...    ...   \n",
              "222848   NaN   NaN   NaN   NaN    NaN   NaN        NaN        NaN    NaN   \n",
              "222849   NaN   NaN   NaN   NaN    NaN   NaN        NaN        NaN    NaN   \n",
              "222850   NaN   NaN   NaN   NaN    NaN   NaN        NaN        NaN    NaN   \n",
              "222851   NaN   NaN   NaN   NaN    NaN   NaN        NaN        NaN    NaN   \n",
              "222852   NaN   NaN   NaN   NaN    NaN   NaN        NaN        NaN    NaN   \n",
              "\n",
              "              Time         T  TIME IN GMT TIME IN IST      Date     Label  \n",
              "0       12171600.0  121716.0  12:17:16 PM  5:47:16 PM  291021.0  STRAIGHT  \n",
              "1       12171600.0  121716.0  12:17:16 PM  5:47:16 PM  291021.0  STRAIGHT  \n",
              "2       12171600.0  121716.0  12:17:16 PM  5:47:16 PM  291021.0  STRAIGHT  \n",
              "3       12171600.0  121716.0  12:17:16 PM  5:47:16 PM  291021.0  STRAIGHT  \n",
              "4       12171600.0  121716.0  12:17:16 PM  5:47:16 PM  291021.0  STRAIGHT  \n",
              "...            ...       ...          ...         ...       ...       ...  \n",
              "222848         NaN       NaN          NaN         NaN       NaN       NaN  \n",
              "222849         NaN       NaN          NaN         NaN       NaN       NaN  \n",
              "222850         NaN       NaN          NaN         NaN       NaN       NaN  \n",
              "222851         NaN       NaN          NaN         NaN       NaN       NaN  \n",
              "222852         NaN       NaN          NaN         NaN       NaN       NaN  \n",
              "\n",
              "[222853 rows x 15 columns]"
            ],
            "text/html": [
              "\n",
              "  <div id=\"df-34b135f1-eeb4-4b53-8d9c-09216447abe6\">\n",
              "    <div class=\"colab-df-container\">\n",
              "      <div>\n",
              "<style scoped>\n",
              "    .dataframe tbody tr th:only-of-type {\n",
              "        vertical-align: middle;\n",
              "    }\n",
              "\n",
              "    .dataframe tbody tr th {\n",
              "        vertical-align: top;\n",
              "    }\n",
              "\n",
              "    .dataframe thead th {\n",
              "        text-align: right;\n",
              "    }\n",
              "</style>\n",
              "<table border=\"1\" class=\"dataframe\">\n",
              "  <thead>\n",
              "    <tr style=\"text-align: right;\">\n",
              "      <th></th>\n",
              "      <th>Ax</th>\n",
              "      <th>Ay</th>\n",
              "      <th>Az</th>\n",
              "      <th>Gx</th>\n",
              "      <th>Gy</th>\n",
              "      <th>Gz</th>\n",
              "      <th>Lat</th>\n",
              "      <th>Long</th>\n",
              "      <th>Speed</th>\n",
              "      <th>Time</th>\n",
              "      <th>T</th>\n",
              "      <th>TIME IN GMT</th>\n",
              "      <th>TIME IN IST</th>\n",
              "      <th>Date</th>\n",
              "      <th>Label</th>\n",
              "    </tr>\n",
              "  </thead>\n",
              "  <tbody>\n",
              "    <tr>\n",
              "      <th>0</th>\n",
              "      <td>-0.10</td>\n",
              "      <td>0.01</td>\n",
              "      <td>1.30</td>\n",
              "      <td>4.46</td>\n",
              "      <td>24.96</td>\n",
              "      <td>3.97</td>\n",
              "      <td>17.445822</td>\n",
              "      <td>78.350881</td>\n",
              "      <td>1.14</td>\n",
              "      <td>12171600.0</td>\n",
              "      <td>121716.0</td>\n",
              "      <td>12:17:16 PM</td>\n",
              "      <td>5:47:16 PM</td>\n",
              "      <td>291021.0</td>\n",
              "      <td>STRAIGHT</td>\n",
              "    </tr>\n",
              "    <tr>\n",
              "      <th>1</th>\n",
              "      <td>0.13</td>\n",
              "      <td>-0.07</td>\n",
              "      <td>1.24</td>\n",
              "      <td>0.92</td>\n",
              "      <td>21.73</td>\n",
              "      <td>4.70</td>\n",
              "      <td>17.445822</td>\n",
              "      <td>78.350881</td>\n",
              "      <td>1.14</td>\n",
              "      <td>12171600.0</td>\n",
              "      <td>121716.0</td>\n",
              "      <td>12:17:16 PM</td>\n",
              "      <td>5:47:16 PM</td>\n",
              "      <td>291021.0</td>\n",
              "      <td>STRAIGHT</td>\n",
              "    </tr>\n",
              "    <tr>\n",
              "      <th>2</th>\n",
              "      <td>-0.07</td>\n",
              "      <td>0.08</td>\n",
              "      <td>1.18</td>\n",
              "      <td>5.19</td>\n",
              "      <td>21.97</td>\n",
              "      <td>5.00</td>\n",
              "      <td>17.445822</td>\n",
              "      <td>78.350881</td>\n",
              "      <td>1.14</td>\n",
              "      <td>12171600.0</td>\n",
              "      <td>121716.0</td>\n",
              "      <td>12:17:16 PM</td>\n",
              "      <td>5:47:16 PM</td>\n",
              "      <td>291021.0</td>\n",
              "      <td>STRAIGHT</td>\n",
              "    </tr>\n",
              "    <tr>\n",
              "      <th>3</th>\n",
              "      <td>0.20</td>\n",
              "      <td>-0.07</td>\n",
              "      <td>1.22</td>\n",
              "      <td>0.55</td>\n",
              "      <td>21.24</td>\n",
              "      <td>5.98</td>\n",
              "      <td>17.445822</td>\n",
              "      <td>78.350881</td>\n",
              "      <td>1.14</td>\n",
              "      <td>12171600.0</td>\n",
              "      <td>121716.0</td>\n",
              "      <td>12:17:16 PM</td>\n",
              "      <td>5:47:16 PM</td>\n",
              "      <td>291021.0</td>\n",
              "      <td>STRAIGHT</td>\n",
              "    </tr>\n",
              "    <tr>\n",
              "      <th>4</th>\n",
              "      <td>-0.16</td>\n",
              "      <td>0.05</td>\n",
              "      <td>1.08</td>\n",
              "      <td>1.59</td>\n",
              "      <td>21.55</td>\n",
              "      <td>6.41</td>\n",
              "      <td>17.445822</td>\n",
              "      <td>78.350881</td>\n",
              "      <td>1.14</td>\n",
              "      <td>12171600.0</td>\n",
              "      <td>121716.0</td>\n",
              "      <td>12:17:16 PM</td>\n",
              "      <td>5:47:16 PM</td>\n",
              "      <td>291021.0</td>\n",
              "      <td>STRAIGHT</td>\n",
              "    </tr>\n",
              "    <tr>\n",
              "      <th>...</th>\n",
              "      <td>...</td>\n",
              "      <td>...</td>\n",
              "      <td>...</td>\n",
              "      <td>...</td>\n",
              "      <td>...</td>\n",
              "      <td>...</td>\n",
              "      <td>...</td>\n",
              "      <td>...</td>\n",
              "      <td>...</td>\n",
              "      <td>...</td>\n",
              "      <td>...</td>\n",
              "      <td>...</td>\n",
              "      <td>...</td>\n",
              "      <td>...</td>\n",
              "      <td>...</td>\n",
              "    </tr>\n",
              "    <tr>\n",
              "      <th>222848</th>\n",
              "      <td>NaN</td>\n",
              "      <td>NaN</td>\n",
              "      <td>NaN</td>\n",
              "      <td>NaN</td>\n",
              "      <td>NaN</td>\n",
              "      <td>NaN</td>\n",
              "      <td>NaN</td>\n",
              "      <td>NaN</td>\n",
              "      <td>NaN</td>\n",
              "      <td>NaN</td>\n",
              "      <td>NaN</td>\n",
              "      <td>NaN</td>\n",
              "      <td>NaN</td>\n",
              "      <td>NaN</td>\n",
              "      <td>NaN</td>\n",
              "    </tr>\n",
              "    <tr>\n",
              "      <th>222849</th>\n",
              "      <td>NaN</td>\n",
              "      <td>NaN</td>\n",
              "      <td>NaN</td>\n",
              "      <td>NaN</td>\n",
              "      <td>NaN</td>\n",
              "      <td>NaN</td>\n",
              "      <td>NaN</td>\n",
              "      <td>NaN</td>\n",
              "      <td>NaN</td>\n",
              "      <td>NaN</td>\n",
              "      <td>NaN</td>\n",
              "      <td>NaN</td>\n",
              "      <td>NaN</td>\n",
              "      <td>NaN</td>\n",
              "      <td>NaN</td>\n",
              "    </tr>\n",
              "    <tr>\n",
              "      <th>222850</th>\n",
              "      <td>NaN</td>\n",
              "      <td>NaN</td>\n",
              "      <td>NaN</td>\n",
              "      <td>NaN</td>\n",
              "      <td>NaN</td>\n",
              "      <td>NaN</td>\n",
              "      <td>NaN</td>\n",
              "      <td>NaN</td>\n",
              "      <td>NaN</td>\n",
              "      <td>NaN</td>\n",
              "      <td>NaN</td>\n",
              "      <td>NaN</td>\n",
              "      <td>NaN</td>\n",
              "      <td>NaN</td>\n",
              "      <td>NaN</td>\n",
              "    </tr>\n",
              "    <tr>\n",
              "      <th>222851</th>\n",
              "      <td>NaN</td>\n",
              "      <td>NaN</td>\n",
              "      <td>NaN</td>\n",
              "      <td>NaN</td>\n",
              "      <td>NaN</td>\n",
              "      <td>NaN</td>\n",
              "      <td>NaN</td>\n",
              "      <td>NaN</td>\n",
              "      <td>NaN</td>\n",
              "      <td>NaN</td>\n",
              "      <td>NaN</td>\n",
              "      <td>NaN</td>\n",
              "      <td>NaN</td>\n",
              "      <td>NaN</td>\n",
              "      <td>NaN</td>\n",
              "    </tr>\n",
              "    <tr>\n",
              "      <th>222852</th>\n",
              "      <td>NaN</td>\n",
              "      <td>NaN</td>\n",
              "      <td>NaN</td>\n",
              "      <td>NaN</td>\n",
              "      <td>NaN</td>\n",
              "      <td>NaN</td>\n",
              "      <td>NaN</td>\n",
              "      <td>NaN</td>\n",
              "      <td>NaN</td>\n",
              "      <td>NaN</td>\n",
              "      <td>NaN</td>\n",
              "      <td>NaN</td>\n",
              "      <td>NaN</td>\n",
              "      <td>NaN</td>\n",
              "      <td>NaN</td>\n",
              "    </tr>\n",
              "  </tbody>\n",
              "</table>\n",
              "<p>222853 rows × 15 columns</p>\n",
              "</div>\n",
              "      <button class=\"colab-df-convert\" onclick=\"convertToInteractive('df-34b135f1-eeb4-4b53-8d9c-09216447abe6')\"\n",
              "              title=\"Convert this dataframe to an interactive table.\"\n",
              "              style=\"display:none;\">\n",
              "        \n",
              "  <svg xmlns=\"http://www.w3.org/2000/svg\" height=\"24px\"viewBox=\"0 0 24 24\"\n",
              "       width=\"24px\">\n",
              "    <path d=\"M0 0h24v24H0V0z\" fill=\"none\"/>\n",
              "    <path d=\"M18.56 5.44l.94 2.06.94-2.06 2.06-.94-2.06-.94-.94-2.06-.94 2.06-2.06.94zm-11 1L8.5 8.5l.94-2.06 2.06-.94-2.06-.94L8.5 2.5l-.94 2.06-2.06.94zm10 10l.94 2.06.94-2.06 2.06-.94-2.06-.94-.94-2.06-.94 2.06-2.06.94z\"/><path d=\"M17.41 7.96l-1.37-1.37c-.4-.4-.92-.59-1.43-.59-.52 0-1.04.2-1.43.59L10.3 9.45l-7.72 7.72c-.78.78-.78 2.05 0 2.83L4 21.41c.39.39.9.59 1.41.59.51 0 1.02-.2 1.41-.59l7.78-7.78 2.81-2.81c.8-.78.8-2.07 0-2.86zM5.41 20L4 18.59l7.72-7.72 1.47 1.35L5.41 20z\"/>\n",
              "  </svg>\n",
              "      </button>\n",
              "      \n",
              "  <style>\n",
              "    .colab-df-container {\n",
              "      display:flex;\n",
              "      flex-wrap:wrap;\n",
              "      gap: 12px;\n",
              "    }\n",
              "\n",
              "    .colab-df-convert {\n",
              "      background-color: #E8F0FE;\n",
              "      border: none;\n",
              "      border-radius: 50%;\n",
              "      cursor: pointer;\n",
              "      display: none;\n",
              "      fill: #1967D2;\n",
              "      height: 32px;\n",
              "      padding: 0 0 0 0;\n",
              "      width: 32px;\n",
              "    }\n",
              "\n",
              "    .colab-df-convert:hover {\n",
              "      background-color: #E2EBFA;\n",
              "      box-shadow: 0px 1px 2px rgba(60, 64, 67, 0.3), 0px 1px 3px 1px rgba(60, 64, 67, 0.15);\n",
              "      fill: #174EA6;\n",
              "    }\n",
              "\n",
              "    [theme=dark] .colab-df-convert {\n",
              "      background-color: #3B4455;\n",
              "      fill: #D2E3FC;\n",
              "    }\n",
              "\n",
              "    [theme=dark] .colab-df-convert:hover {\n",
              "      background-color: #434B5C;\n",
              "      box-shadow: 0px 1px 3px 1px rgba(0, 0, 0, 0.15);\n",
              "      filter: drop-shadow(0px 1px 2px rgba(0, 0, 0, 0.3));\n",
              "      fill: #FFFFFF;\n",
              "    }\n",
              "  </style>\n",
              "\n",
              "      <script>\n",
              "        const buttonEl =\n",
              "          document.querySelector('#df-34b135f1-eeb4-4b53-8d9c-09216447abe6 button.colab-df-convert');\n",
              "        buttonEl.style.display =\n",
              "          google.colab.kernel.accessAllowed ? 'block' : 'none';\n",
              "\n",
              "        async function convertToInteractive(key) {\n",
              "          const element = document.querySelector('#df-34b135f1-eeb4-4b53-8d9c-09216447abe6');\n",
              "          const dataTable =\n",
              "            await google.colab.kernel.invokeFunction('convertToInteractive',\n",
              "                                                     [key], {});\n",
              "          if (!dataTable) return;\n",
              "\n",
              "          const docLinkHtml = 'Like what you see? Visit the ' +\n",
              "            '<a target=\"_blank\" href=https://colab.research.google.com/notebooks/data_table.ipynb>data table notebook</a>'\n",
              "            + ' to learn more about interactive tables.';\n",
              "          element.innerHTML = '';\n",
              "          dataTable['output_type'] = 'display_data';\n",
              "          await google.colab.output.renderOutput(dataTable, element);\n",
              "          const docLink = document.createElement('div');\n",
              "          docLink.innerHTML = docLinkHtml;\n",
              "          element.appendChild(docLink);\n",
              "        }\n",
              "      </script>\n",
              "    </div>\n",
              "  </div>\n",
              "  "
            ]
          },
          "metadata": {},
          "execution_count": 2
        }
      ],
      "source": [
        "test =pd.read_csv('/content/drive/MyDrive/data_test_24-29.csv')\n",
        "train = pd.read_csv('/content/drive/MyDrive/data_train_24-29.csv')\n",
        "\n",
        "train"
      ]
    },
    {
      "cell_type": "code",
      "execution_count": null,
      "metadata": {
        "colab": {
          "base_uri": "https://localhost:8080/",
          "height": 424
        },
        "id": "FsL_IQqOT_SW",
        "outputId": "dbbb16d9-1ef1-42a4-d0ab-f51d12c5468f"
      },
      "outputs": [
        {
          "output_type": "execute_result",
          "data": {
            "text/plain": [
              "          Ax    Ay    Az    Gx     Gy    Gz  Speed     Label\n",
              "0      -0.10  0.01  1.30  4.46  24.96  3.97   1.14  STRAIGHT\n",
              "1       0.13 -0.07  1.24  0.92  21.73  4.70   1.14  STRAIGHT\n",
              "2      -0.07  0.08  1.18  5.19  21.97  5.00   1.14  STRAIGHT\n",
              "3       0.20 -0.07  1.22  0.55  21.24  5.98   1.14  STRAIGHT\n",
              "4      -0.16  0.05  1.08  1.59  21.55  6.41   1.14  STRAIGHT\n",
              "...      ...   ...   ...   ...    ...   ...    ...       ...\n",
              "222848   NaN   NaN   NaN   NaN    NaN   NaN    NaN       NaN\n",
              "222849   NaN   NaN   NaN   NaN    NaN   NaN    NaN       NaN\n",
              "222850   NaN   NaN   NaN   NaN    NaN   NaN    NaN       NaN\n",
              "222851   NaN   NaN   NaN   NaN    NaN   NaN    NaN       NaN\n",
              "222852   NaN   NaN   NaN   NaN    NaN   NaN    NaN       NaN\n",
              "\n",
              "[222853 rows x 8 columns]"
            ],
            "text/html": [
              "\n",
              "  <div id=\"df-eeb22e86-45ac-4664-9b37-285fec77f09b\">\n",
              "    <div class=\"colab-df-container\">\n",
              "      <div>\n",
              "<style scoped>\n",
              "    .dataframe tbody tr th:only-of-type {\n",
              "        vertical-align: middle;\n",
              "    }\n",
              "\n",
              "    .dataframe tbody tr th {\n",
              "        vertical-align: top;\n",
              "    }\n",
              "\n",
              "    .dataframe thead th {\n",
              "        text-align: right;\n",
              "    }\n",
              "</style>\n",
              "<table border=\"1\" class=\"dataframe\">\n",
              "  <thead>\n",
              "    <tr style=\"text-align: right;\">\n",
              "      <th></th>\n",
              "      <th>Ax</th>\n",
              "      <th>Ay</th>\n",
              "      <th>Az</th>\n",
              "      <th>Gx</th>\n",
              "      <th>Gy</th>\n",
              "      <th>Gz</th>\n",
              "      <th>Speed</th>\n",
              "      <th>Label</th>\n",
              "    </tr>\n",
              "  </thead>\n",
              "  <tbody>\n",
              "    <tr>\n",
              "      <th>0</th>\n",
              "      <td>-0.10</td>\n",
              "      <td>0.01</td>\n",
              "      <td>1.30</td>\n",
              "      <td>4.46</td>\n",
              "      <td>24.96</td>\n",
              "      <td>3.97</td>\n",
              "      <td>1.14</td>\n",
              "      <td>STRAIGHT</td>\n",
              "    </tr>\n",
              "    <tr>\n",
              "      <th>1</th>\n",
              "      <td>0.13</td>\n",
              "      <td>-0.07</td>\n",
              "      <td>1.24</td>\n",
              "      <td>0.92</td>\n",
              "      <td>21.73</td>\n",
              "      <td>4.70</td>\n",
              "      <td>1.14</td>\n",
              "      <td>STRAIGHT</td>\n",
              "    </tr>\n",
              "    <tr>\n",
              "      <th>2</th>\n",
              "      <td>-0.07</td>\n",
              "      <td>0.08</td>\n",
              "      <td>1.18</td>\n",
              "      <td>5.19</td>\n",
              "      <td>21.97</td>\n",
              "      <td>5.00</td>\n",
              "      <td>1.14</td>\n",
              "      <td>STRAIGHT</td>\n",
              "    </tr>\n",
              "    <tr>\n",
              "      <th>3</th>\n",
              "      <td>0.20</td>\n",
              "      <td>-0.07</td>\n",
              "      <td>1.22</td>\n",
              "      <td>0.55</td>\n",
              "      <td>21.24</td>\n",
              "      <td>5.98</td>\n",
              "      <td>1.14</td>\n",
              "      <td>STRAIGHT</td>\n",
              "    </tr>\n",
              "    <tr>\n",
              "      <th>4</th>\n",
              "      <td>-0.16</td>\n",
              "      <td>0.05</td>\n",
              "      <td>1.08</td>\n",
              "      <td>1.59</td>\n",
              "      <td>21.55</td>\n",
              "      <td>6.41</td>\n",
              "      <td>1.14</td>\n",
              "      <td>STRAIGHT</td>\n",
              "    </tr>\n",
              "    <tr>\n",
              "      <th>...</th>\n",
              "      <td>...</td>\n",
              "      <td>...</td>\n",
              "      <td>...</td>\n",
              "      <td>...</td>\n",
              "      <td>...</td>\n",
              "      <td>...</td>\n",
              "      <td>...</td>\n",
              "      <td>...</td>\n",
              "    </tr>\n",
              "    <tr>\n",
              "      <th>222848</th>\n",
              "      <td>NaN</td>\n",
              "      <td>NaN</td>\n",
              "      <td>NaN</td>\n",
              "      <td>NaN</td>\n",
              "      <td>NaN</td>\n",
              "      <td>NaN</td>\n",
              "      <td>NaN</td>\n",
              "      <td>NaN</td>\n",
              "    </tr>\n",
              "    <tr>\n",
              "      <th>222849</th>\n",
              "      <td>NaN</td>\n",
              "      <td>NaN</td>\n",
              "      <td>NaN</td>\n",
              "      <td>NaN</td>\n",
              "      <td>NaN</td>\n",
              "      <td>NaN</td>\n",
              "      <td>NaN</td>\n",
              "      <td>NaN</td>\n",
              "    </tr>\n",
              "    <tr>\n",
              "      <th>222850</th>\n",
              "      <td>NaN</td>\n",
              "      <td>NaN</td>\n",
              "      <td>NaN</td>\n",
              "      <td>NaN</td>\n",
              "      <td>NaN</td>\n",
              "      <td>NaN</td>\n",
              "      <td>NaN</td>\n",
              "      <td>NaN</td>\n",
              "    </tr>\n",
              "    <tr>\n",
              "      <th>222851</th>\n",
              "      <td>NaN</td>\n",
              "      <td>NaN</td>\n",
              "      <td>NaN</td>\n",
              "      <td>NaN</td>\n",
              "      <td>NaN</td>\n",
              "      <td>NaN</td>\n",
              "      <td>NaN</td>\n",
              "      <td>NaN</td>\n",
              "    </tr>\n",
              "    <tr>\n",
              "      <th>222852</th>\n",
              "      <td>NaN</td>\n",
              "      <td>NaN</td>\n",
              "      <td>NaN</td>\n",
              "      <td>NaN</td>\n",
              "      <td>NaN</td>\n",
              "      <td>NaN</td>\n",
              "      <td>NaN</td>\n",
              "      <td>NaN</td>\n",
              "    </tr>\n",
              "  </tbody>\n",
              "</table>\n",
              "<p>222853 rows × 8 columns</p>\n",
              "</div>\n",
              "      <button class=\"colab-df-convert\" onclick=\"convertToInteractive('df-eeb22e86-45ac-4664-9b37-285fec77f09b')\"\n",
              "              title=\"Convert this dataframe to an interactive table.\"\n",
              "              style=\"display:none;\">\n",
              "        \n",
              "  <svg xmlns=\"http://www.w3.org/2000/svg\" height=\"24px\"viewBox=\"0 0 24 24\"\n",
              "       width=\"24px\">\n",
              "    <path d=\"M0 0h24v24H0V0z\" fill=\"none\"/>\n",
              "    <path d=\"M18.56 5.44l.94 2.06.94-2.06 2.06-.94-2.06-.94-.94-2.06-.94 2.06-2.06.94zm-11 1L8.5 8.5l.94-2.06 2.06-.94-2.06-.94L8.5 2.5l-.94 2.06-2.06.94zm10 10l.94 2.06.94-2.06 2.06-.94-2.06-.94-.94-2.06-.94 2.06-2.06.94z\"/><path d=\"M17.41 7.96l-1.37-1.37c-.4-.4-.92-.59-1.43-.59-.52 0-1.04.2-1.43.59L10.3 9.45l-7.72 7.72c-.78.78-.78 2.05 0 2.83L4 21.41c.39.39.9.59 1.41.59.51 0 1.02-.2 1.41-.59l7.78-7.78 2.81-2.81c.8-.78.8-2.07 0-2.86zM5.41 20L4 18.59l7.72-7.72 1.47 1.35L5.41 20z\"/>\n",
              "  </svg>\n",
              "      </button>\n",
              "      \n",
              "  <style>\n",
              "    .colab-df-container {\n",
              "      display:flex;\n",
              "      flex-wrap:wrap;\n",
              "      gap: 12px;\n",
              "    }\n",
              "\n",
              "    .colab-df-convert {\n",
              "      background-color: #E8F0FE;\n",
              "      border: none;\n",
              "      border-radius: 50%;\n",
              "      cursor: pointer;\n",
              "      display: none;\n",
              "      fill: #1967D2;\n",
              "      height: 32px;\n",
              "      padding: 0 0 0 0;\n",
              "      width: 32px;\n",
              "    }\n",
              "\n",
              "    .colab-df-convert:hover {\n",
              "      background-color: #E2EBFA;\n",
              "      box-shadow: 0px 1px 2px rgba(60, 64, 67, 0.3), 0px 1px 3px 1px rgba(60, 64, 67, 0.15);\n",
              "      fill: #174EA6;\n",
              "    }\n",
              "\n",
              "    [theme=dark] .colab-df-convert {\n",
              "      background-color: #3B4455;\n",
              "      fill: #D2E3FC;\n",
              "    }\n",
              "\n",
              "    [theme=dark] .colab-df-convert:hover {\n",
              "      background-color: #434B5C;\n",
              "      box-shadow: 0px 1px 3px 1px rgba(0, 0, 0, 0.15);\n",
              "      filter: drop-shadow(0px 1px 2px rgba(0, 0, 0, 0.3));\n",
              "      fill: #FFFFFF;\n",
              "    }\n",
              "  </style>\n",
              "\n",
              "      <script>\n",
              "        const buttonEl =\n",
              "          document.querySelector('#df-eeb22e86-45ac-4664-9b37-285fec77f09b button.colab-df-convert');\n",
              "        buttonEl.style.display =\n",
              "          google.colab.kernel.accessAllowed ? 'block' : 'none';\n",
              "\n",
              "        async function convertToInteractive(key) {\n",
              "          const element = document.querySelector('#df-eeb22e86-45ac-4664-9b37-285fec77f09b');\n",
              "          const dataTable =\n",
              "            await google.colab.kernel.invokeFunction('convertToInteractive',\n",
              "                                                     [key], {});\n",
              "          if (!dataTable) return;\n",
              "\n",
              "          const docLinkHtml = 'Like what you see? Visit the ' +\n",
              "            '<a target=\"_blank\" href=https://colab.research.google.com/notebooks/data_table.ipynb>data table notebook</a>'\n",
              "            + ' to learn more about interactive tables.';\n",
              "          element.innerHTML = '';\n",
              "          dataTable['output_type'] = 'display_data';\n",
              "          await google.colab.output.renderOutput(dataTable, element);\n",
              "          const docLink = document.createElement('div');\n",
              "          docLink.innerHTML = docLinkHtml;\n",
              "          element.appendChild(docLink);\n",
              "        }\n",
              "      </script>\n",
              "    </div>\n",
              "  </div>\n",
              "  "
            ]
          },
          "metadata": {},
          "execution_count": 3
        }
      ],
      "source": [
        "train_data = train.drop(['TIME IN GMT','TIME IN IST','Lat ','Long', 'Time','T','Date'], axis=1)\n",
        "test_data = test.drop(['TIME IN GMT','TIME IN IST','Lat ','Long', 'Time','T','Date'], axis=1)\n",
        "\n",
        "train_data"
      ]
    },
    {
      "cell_type": "code",
      "execution_count": null,
      "metadata": {
        "colab": {
          "base_uri": "https://localhost:8080/"
        },
        "id": "nL41kld1T_P8",
        "outputId": "19b10fe0-0ce8-490c-990e-b02eb5bd4ea9"
      },
      "outputs": [
        {
          "output_type": "execute_result",
          "data": {
            "text/plain": [
              "(178283, 8)"
            ]
          },
          "metadata": {},
          "execution_count": 4
        }
      ],
      "source": [
        "train_data.dropna(axis=0, how='any', inplace=True)\n",
        "train_data.shape"
      ]
    },
    {
      "cell_type": "code",
      "execution_count": null,
      "metadata": {
        "colab": {
          "base_uri": "https://localhost:8080/"
        },
        "id": "Ibp4nRkWT_Mb",
        "outputId": "a6ad4a64-3349-4081-b5d2-ba65777e2d6c"
      },
      "outputs": [
        {
          "output_type": "execute_result",
          "data": {
            "text/plain": [
              "(44574, 8)"
            ]
          },
          "metadata": {},
          "execution_count": 5
        }
      ],
      "source": [
        "test_data.dropna(axis=0, how='any', inplace=True)\n",
        "test_data.shape"
      ]
    },
    {
      "cell_type": "code",
      "execution_count": null,
      "metadata": {
        "colab": {
          "base_uri": "https://localhost:8080/",
          "height": 295
        },
        "id": "dcu_xdk6T_KD",
        "outputId": "202317fb-3a67-4085-edbc-b19a70638bf9"
      },
      "outputs": [
        {
          "output_type": "display_data",
          "data": {
            "text/plain": [
              "<Figure size 432x288 with 1 Axes>"
            ],
            "image/png": "[encoded data removed]"
          },
          "metadata": {}
        }
      ],
      "source": [
        "sns.set_style('whitegrid')\n",
        "sns.countplot(x = 'Label', data = train_data)\n",
        "plt.title('Number of samples by activity')\n",
        "plt.show()"
      ]
    },
    {
      "cell_type": "code",
      "execution_count": null,
      "metadata": {
        "colab": {
          "base_uri": "https://localhost:8080/",
          "height": 295
        },
        "id": "e5-9C-uiT_H8",
        "outputId": "e4c1b09c-5b57-4ae0-b42a-f8f16bbc4b12"
      },
      "outputs": [
        {
          "output_type": "display_data",
          "data": {
            "text/plain": [
              "<Figure size 432x288 with 1 Axes>"
            ],
            "image/png": "[encoded data removed]"
          },
          "metadata": {}
        }
      ],
      "source": [
        "sns.set_style('whitegrid')\n",
        "sns.countplot(x = 'Label', data = test_data)\n",
        "plt.title('Number of samples by activity')\n",
        "plt.show()"
      ]
    },
    {
      "cell_type": "code",
      "execution_count": null,
      "metadata": {
        "colab": {
          "base_uri": "https://localhost:8080/"
        },
        "id": "S6Ul2EYIT_GK",
        "outputId": "d160d1c9-3f48-4073-a2f1-42ddded86361"
      },
      "outputs": [
        {
          "output_type": "execute_result",
          "data": {
            "text/plain": [
              "(178283, 8)"
            ]
          },
          "metadata": {},
          "execution_count": 8
        }
      ],
      "source": [
        "train_data.shape"
      ]
    },
    {
      "cell_type": "code",
      "execution_count": null,
      "metadata": {
        "id": "9GXGtaAgT_EM"
      },
      "outputs": [],
      "source": [
        "n_time_steps = 104\n",
        "n_features = 7 \n",
        "step = 104\n",
        "n_classes = 5 \n",
        "n_epochs = 50       \n",
        "batch_size = 32   \n",
        "learning_rate = 0.0001\n",
        "l2_loss = 0.0015\n",
        "\n",
        "segments = []\n",
        "labels = []\n"
      ]
    },
    {
      "cell_type": "code",
      "execution_count": null,
      "metadata": {
        "id": "KktoA5EIT_Aa"
      },
      "outputs": [],
      "source": [
        "for i in range(0,  train_data.shape[0]- n_time_steps, step):  \n",
        "\n",
        "    Ax_tr = train_data['Ax'].values[i: i + n_time_steps]\n",
        "\n",
        "    Ay_tr = train_data['Ay'].values[i: i + n_time_steps]\n",
        "\n",
        "    Az_tr = train_data['Az'].values[i: i + n_time_steps]\n",
        "\n",
        "    Gx_tr = train_data['Gx'].values[i: i + n_time_steps]\n",
        "\n",
        "    Gy_tr = train_data['Gy'].values[i: i + n_time_steps]\n",
        "\n",
        "    Gz_tr = train_data['Gz'].values[i: i + n_time_steps]\n",
        "\n",
        "    Speed_tr = train_data['Speed'].values[i: i + n_time_steps]\n",
        "\n",
        "\n",
        "    label_tr = stats.mode(train_data['Label'][i: i + n_time_steps])[0][0]\n",
        "\n",
        "    segments.append([Ax_tr, Ay_tr, Az_tr, Gx_tr,Gy_tr,Gz_tr,Speed_tr])\n",
        "\n",
        "    labels.append(label_tr)"
      ]
    },
    {
      "cell_type": "code",
      "execution_count": null,
      "metadata": {
        "colab": {
          "base_uri": "https://localhost:8080/"
        },
        "id": "Wu1tNrmzT--G",
        "outputId": "f2ed91df-682e-43eb-bc15-ca8a1f0f71e5"
      },
      "outputs": [
        {
          "output_type": "execute_result",
          "data": {
            "text/plain": [
              "(1714, 104, 7)"
            ]
          },
          "metadata": {},
          "execution_count": 11
        }
      ],
      "source": [
        "X_train = np.asarray(segments, dtype= np.float32).reshape(-1, n_time_steps, n_features)\n",
        "\n",
        "y_train = np.asarray(pd.get_dummies(labels), dtype = np.float32)\n",
        "\n",
        "X_train.shape"
      ]
    },
    {
      "cell_type": "code",
      "execution_count": null,
      "metadata": {
        "id": "2djCyl_eT-7t"
      },
      "outputs": [],
      "source": [
        "reshaped_segments = np.asarray(segments, dtype= np.float32).reshape(-1, n_time_steps, n_features)"
      ]
    },
    {
      "cell_type": "code",
      "execution_count": null,
      "metadata": {
        "colab": {
          "base_uri": "https://localhost:8080/"
        },
        "id": "P77cAen6T-5a",
        "outputId": "bb592e69-3b93-44e0-9f86-d0c1985e3c0e"
      },
      "outputs": [
        {
          "output_type": "execute_result",
          "data": {
            "text/plain": [
              "(1714, 104, 7)"
            ]
          },
          "metadata": {},
          "execution_count": 13
        }
      ],
      "source": [
        "labels = np.asarray(pd.get_dummies(labels), dtype = np.float32)\n",
        "\n",
        "reshaped_segments.shape"
      ]
    },
    {
      "cell_type": "code",
      "execution_count": null,
      "metadata": {
        "id": "JqwXOjahT-2_"
      },
      "outputs": [],
      "source": [
        "from sklearn.model_selection import train_test_split\n",
        "X_train, X_test, y_train, y_test = train_test_split(reshaped_segments, labels, test_size = 0.25)\n"
      ]
    },
    {
      "cell_type": "code",
      "execution_count": null,
      "metadata": {
        "colab": {
          "base_uri": "https://localhost:8080/"
        },
        "id": "w0SCixmrALrY",
        "outputId": "10d27602-dc77-4691-833e-4d6409f1365b"
      },
      "outputs": [
        {
          "output_type": "execute_result",
          "data": {
            "text/plain": [
              "5"
            ]
          },
          "metadata": {},
          "execution_count": 15
        }
      ],
      "source": [
        "y_train.shape[1]"
      ]
    },
    {
      "cell_type": "code",
      "execution_count": null,
      "metadata": {
        "colab": {
          "base_uri": "https://localhost:8080/"
        },
        "id": "QUXJm4mrT-00",
        "outputId": "9f53e446-cc27-4b5f-d44b-88b5328571c1"
      },
      "outputs": [
        {
          "output_type": "stream",
          "name": "stdout",
          "text": [
            "Model: \"sequential\"\n",
            "_________________________________________________________________\n",
            " Layer (type)                Output Shape              Param #   \n",
            "=================================================================\n",
            " lstm (LSTM)                 (None, 100)               43200     \n",
            "                                                                 \n",
            " dropout (Dropout)           (None, 100)               0         \n",
            "                                                                 \n",
            " dense (Dense)               (None, 32)                3232      \n",
            "                                                                 \n",
            " dense_1 (Dense)             (None, 5)                 165       \n",
            "                                                                 \n",
            "=================================================================\n",
            "Total params: 46,597\n",
            "Trainable params: 46,597\n",
            "Non-trainable params: 0\n",
            "_________________________________________________________________\n"
          ]
        }
      ],
      "source": [
        "from keras.models import Sequential\n",
        "from keras.layers import LSTM, Dense, Flatten, Dropout\n",
        "\n",
        "model = Sequential()\n",
        "# RNN layer\n",
        "model.add(LSTM(units = 100, input_shape = (X_train.shape[1], X_train.shape[2])))\n",
        "\n",
        "# Dropout layer\n",
        "model.add(Dropout(0.4))\n",
        " \n",
        "# Dense layer with ReLu\n",
        "model.add(Dense(units = 32, activation='tanh'))\n",
        "\n",
        "# Softmax layer\n",
        "model.add(Dense(y_train.shape[1], activation = 'softplus'))\n",
        "\n",
        "# Compile model\n",
        "model.compile(loss='categorical_crossentropy', optimizer='adam', metrics=['accuracy'])\n",
        "\n",
        "model.summary()"
      ]
    },
    {
      "cell_type": "code",
      "execution_count": null,
      "metadata": {
        "colab": {
          "base_uri": "https://localhost:8080/"
        },
        "id": "xJq8Klz9F7ke",
        "outputId": "419039aa-2157-4f74-8cb7-86e8c265cf8e"
      },
      "outputs": [
        {
          "output_type": "stream",
          "name": "stdout",
          "text": [
            "Model: \"sequential_1\"\n",
            "_________________________________________________________________\n",
            " Layer (type)                Output Shape              Param #   \n",
            "=================================================================\n",
            " lstm_1 (LSTM)               (None, 59)                15812     \n",
            "                                                                 \n",
            " dropout_1 (Dropout)         (None, 59)                0         \n",
            "                                                                 \n",
            " dense_2 (Dense)             (None, 5)                 300       \n",
            "                                                                 \n",
            "=================================================================\n",
            "Total params: 16,112\n",
            "Trainable params: 16,112\n",
            "Non-trainable params: 0\n",
            "_________________________________________________________________\n"
          ]
        }
      ],
      "source": [
        "from keras.models import Sequential\n",
        "from keras.layers import LSTM, Dense, Flatten, Dropout\n",
        "\n",
        "model = Sequential()\n",
        "# RNN layer\n",
        "model.add(LSTM(units = 59, input_shape = (X_train.shape[1], X_train.shape[2])))\n",
        "\n",
        "# Dropout layer\n",
        "model.add(Dropout(0.4))\n",
        " \n",
        "# Dense layer with ReLu\n",
        "#model.add(Dense(units = 32, activation='tanh'))\n",
        "\n",
        "# Softmax layer\n",
        "model.add(Dense(y_train.shape[1], activation = 'softplus'))\n",
        "\n",
        "# Compile model\n",
        "model.compile(loss='categorical_crossentropy', optimizer='adam', metrics=['accuracy'])\n",
        "\n",
        "model.summary()"
      ]
    },
    {
      "cell_type": "code",
      "execution_count": null,
      "metadata": {
        "colab": {
          "base_uri": "https://localhost:8080/"
        },
        "id": "2zLRZnTKi0tg",
        "outputId": "a3bfb616-4221-48b5-a98e-7ae0c52c1f84"
      },
      "outputs": [
        {
          "output_type": "stream",
          "name": "stdout",
          "text": [
            "(429, 104, 7)\n",
            "(429, 5)\n"
          ]
        }
      ],
      "source": [
        "print(X_test.shape)\n",
        "print(y_test.shape)"
      ]
    },
    {
      "cell_type": "code",
      "execution_count": null,
      "metadata": {
        "colab": {
          "base_uri": "https://localhost:8080/"
        },
        "id": "o1b5v2aU3kJs",
        "outputId": "a76e367d-ebbb-4edc-8b10-c2989c5f8b63"
      },
      "outputs": [
        {
          "output_type": "execute_result",
          "data": {
            "text/plain": [
              "array([0., 0., 0., 0., 1.], dtype=float32)"
            ]
          },
          "metadata": {},
          "execution_count": 19
        }
      ],
      "source": [
        "y_test[1]"
      ]
    },
    {
      "cell_type": "code",
      "execution_count": null,
      "metadata": {
        "colab": {
          "base_uri": "https://localhost:8080/"
        },
        "id": "FsCPcFQfUbqt",
        "outputId": "db21d100-2ce7-4843-822d-6be646bac052"
      },
      "outputs": [
        {
          "output_type": "stream",
          "name": "stdout",
          "text": [
            "Epoch 1/50\n",
            "40/41 [============================>.] - ETA: 0s - loss: 0.9559 - accuracy: 0.6938"
          ]
        },
        {
          "output_type": "stream",
          "name": "stderr",
          "text": [
            "WARNING:absl:Found untraced functions such as lstm_cell_1_layer_call_fn, lstm_cell_1_layer_call_and_return_conditional_losses while saving (showing 2 of 2). These functions will not be directly callable after loading.\n",
            "WARNING:absl:<keras.layers.recurrent.LSTMCell object at 0x7fa284759e50> has the same name 'LSTMCell' as a built-in Keras object. Consider renaming <class 'keras.layers.recurrent.LSTMCell'> to avoid naming conflicts when loading with `tf.keras.models.load_model`. If renaming is not possible, pass the object in the `custom_objects` parameter of the load function.\n"
          ]
        },
        {
          "output_type": "stream",
          "name": "stdout",
          "text": [
            "\b\b\b\b\b\b\b\b\b\b\b\b\b\b\b\b\b\b\b\b\b\b\b\b\b\b\b\b\b\b\b\b\b\b\b\b\b\b\b\b\b\b\b\b\b\b\b\b\b\b\b\b\b\b\b\b\b\b\b\b\b\b\b\b\b\b\b\b\b\b\b\b\b\b\b\b\b\b\b\b\b\b\r41/41 [==============================] - 10s 181ms/step - loss: 0.9565 - accuracy: 0.6934 - val_loss: 0.6587 - val_accuracy: 0.8322\n",
            "Epoch 2/50\n",
            "41/41 [==============================] - ETA: 0s - loss: 0.6979 - accuracy: 0.8288"
          ]
        },
        {
          "output_type": "stream",
          "name": "stderr",
          "text": [
            "WARNING:absl:Found untraced functions such as lstm_cell_1_layer_call_fn, lstm_cell_1_layer_call_and_return_conditional_losses while saving (showing 2 of 2). These functions will not be directly callable after loading.\n",
            "WARNING:absl:<keras.layers.recurrent.LSTMCell object at 0x7fa284759e50> has the same name 'LSTMCell' as a built-in Keras object. Consider renaming <class 'keras.layers.recurrent.LSTMCell'> to avoid naming conflicts when loading with `tf.keras.models.load_model`. If renaming is not possible, pass the object in the `custom_objects` parameter of the load function.\n"
          ]
        },
        {
          "output_type": "stream",
          "name": "stdout",
          "text": [
            "\b\b\b\b\b\b\b\b\b\b\b\b\b\b\b\b\b\b\b\b\b\b\b\b\b\b\b\b\b\b\b\b\b\b\b\b\b\b\b\b\b\b\b\b\b\b\b\b\b\b\b\b\b\b\b\b\b\b\b\b\b\b\b\b\b\b\b\b\b\b\b\b\b\b\b\b\b\b\b\b\b\b\r41/41 [==============================] - 7s 166ms/step - loss: 0.6979 - accuracy: 0.8288 - val_loss: 0.6197 - val_accuracy: 0.8368\n",
            "Epoch 3/50\n",
            "40/41 [============================>.] - ETA: 0s - loss: 0.6476 - accuracy: 0.8281"
          ]
        },
        {
          "output_type": "stream",
          "name": "stderr",
          "text": [
            "WARNING:absl:Found untraced functions such as lstm_cell_1_layer_call_fn, lstm_cell_1_layer_call_and_return_conditional_losses while saving (showing 2 of 2). These functions will not be directly callable after loading.\n",
            "WARNING:absl:<keras.layers.recurrent.LSTMCell object at 0x7fa284759e50> has the same name 'LSTMCell' as a built-in Keras object. Consider renaming <class 'keras.layers.recurrent.LSTMCell'> to avoid naming conflicts when loading with `tf.keras.models.load_model`. If renaming is not possible, pass the object in the `custom_objects` parameter of the load function.\n"
          ]
        },
        {
          "output_type": "stream",
          "name": "stdout",
          "text": [
            "\b\b\b\b\b\b\b\b\b\b\b\b\b\b\b\b\b\b\b\b\b\b\b\b\b\b\b\b\b\b\b\b\b\b\b\b\b\b\b\b\b\b\b\b\b\b\b\b\b\b\b\b\b\b\b\b\b\b\b\b\b\b\b\b\b\b\b\b\b\b\b\b\b\b\b\b\b\b\b\b\b\b\r41/41 [==============================] - 7s 164ms/step - loss: 0.6459 - accuracy: 0.8288 - val_loss: 0.5973 - val_accuracy: 0.8368\n",
            "Epoch 4/50\n",
            "41/41 [==============================] - ETA: 0s - loss: 0.6287 - accuracy: 0.8280"
          ]
        },
        {
          "output_type": "stream",
          "name": "stderr",
          "text": [
            "WARNING:absl:Found untraced functions such as lstm_cell_1_layer_call_fn, lstm_cell_1_layer_call_and_return_conditional_losses while saving (showing 2 of 2). These functions will not be directly callable after loading.\n",
            "WARNING:absl:<keras.layers.recurrent.LSTMCell object at 0x7fa284759e50> has the same name 'LSTMCell' as a built-in Keras object. Consider renaming <class 'keras.layers.recurrent.LSTMCell'> to avoid naming conflicts when loading with `tf.keras.models.load_model`. If renaming is not possible, pass the object in the `custom_objects` parameter of the load function.\n"
          ]
        },
        {
          "output_type": "stream",
          "name": "stdout",
          "text": [
            "\b\b\b\b\b\b\b\b\b\b\b\b\b\b\b\b\b\b\b\b\b\b\b\b\b\b\b\b\b\b\b\b\b\b\b\b\b\b\b\b\b\b\b\b\b\b\b\b\b\b\b\b\b\b\b\b\b\b\b\b\b\b\b\b\b\b\b\b\b\b\b\b\b\b\b\b\b\b\b\b\b\b\r41/41 [==============================] - 6s 157ms/step - loss: 0.6287 - accuracy: 0.8280 - val_loss: 0.5446 - val_accuracy: 0.8345\n",
            "Epoch 5/50\n",
            "41/41 [==============================] - ETA: 0s - loss: 0.5280 - accuracy: 0.8296"
          ]
        },
        {
          "output_type": "stream",
          "name": "stderr",
          "text": [
            "WARNING:absl:Found untraced functions such as lstm_cell_1_layer_call_fn, lstm_cell_1_layer_call_and_return_conditional_losses while saving (showing 2 of 2). These functions will not be directly callable after loading.\n",
            "WARNING:absl:<keras.layers.recurrent.LSTMCell object at 0x7fa284759e50> has the same name 'LSTMCell' as a built-in Keras object. Consider renaming <class 'keras.layers.recurrent.LSTMCell'> to avoid naming conflicts when loading with `tf.keras.models.load_model`. If renaming is not possible, pass the object in the `custom_objects` parameter of the load function.\n"
          ]
        },
        {
          "output_type": "stream",
          "name": "stdout",
          "text": [
            "\b\b\b\b\b\b\b\b\b\b\b\b\b\b\b\b\b\b\b\b\b\b\b\b\b\b\b\b\b\b\b\b\b\b\b\b\b\b\b\b\b\b\b\b\b\b\b\b\b\b\b\b\b\b\b\b\b\b\b\b\b\b\b\b\b\b\b\b\b\b\b\b\b\b\b\b\b\b\b\b\b\b\r41/41 [==============================] - 11s 280ms/step - loss: 0.5280 - accuracy: 0.8296 - val_loss: 0.4437 - val_accuracy: 0.8368\n",
            "Epoch 6/50\n",
            "40/41 [============================>.] - ETA: 0s - loss: 0.4701 - accuracy: 0.8375"
          ]
        },
        {
          "output_type": "stream",
          "name": "stderr",
          "text": [
            "WARNING:absl:Found untraced functions such as lstm_cell_1_layer_call_fn, lstm_cell_1_layer_call_and_return_conditional_losses while saving (showing 2 of 2). These functions will not be directly callable after loading.\n",
            "WARNING:absl:<keras.layers.recurrent.LSTMCell object at 0x7fa284759e50> has the same name 'LSTMCell' as a built-in Keras object. Consider renaming <class 'keras.layers.recurrent.LSTMCell'> to avoid naming conflicts when loading with `tf.keras.models.load_model`. If renaming is not possible, pass the object in the `custom_objects` parameter of the load function.\n"
          ]
        },
        {
          "output_type": "stream",
          "name": "stdout",
          "text": [
            "\b\b\b\b\b\b\b\b\b\b\b\b\b\b\b\b\b\b\b\b\b\b\b\b\b\b\b\b\b\b\b\b\b\b\b\b\b\b\b\b\b\b\b\b\b\b\b\b\b\b\b\b\b\b\b\b\b\b\b\b\b\b\b\b\b\b\b\b\b\b\b\b\b\b\b\b\b\b\b\b\b\b\r41/41 [==============================] - 13s 310ms/step - loss: 0.4706 - accuracy: 0.8366 - val_loss: 0.4017 - val_accuracy: 0.8368\n",
            "Epoch 7/50\n",
            "41/41 [==============================] - ETA: 0s - loss: 0.4306 - accuracy: 0.8506"
          ]
        },
        {
          "output_type": "stream",
          "name": "stderr",
          "text": [
            "WARNING:absl:Found untraced functions such as lstm_cell_1_layer_call_fn, lstm_cell_1_layer_call_and_return_conditional_losses while saving (showing 2 of 2). These functions will not be directly callable after loading.\n",
            "WARNING:absl:<keras.layers.recurrent.LSTMCell object at 0x7fa284759e50> has the same name 'LSTMCell' as a built-in Keras object. Consider renaming <class 'keras.layers.recurrent.LSTMCell'> to avoid naming conflicts when loading with `tf.keras.models.load_model`. If renaming is not possible, pass the object in the `custom_objects` parameter of the load function.\n"
          ]
        },
        {
          "output_type": "stream",
          "name": "stdout",
          "text": [
            "\b\b\b\b\b\b\b\b\b\b\b\b\b\b\b\b\b\b\b\b\b\b\b\b\b\b\b\b\b\b\b\b\b\b\b\b\b\b\b\b\b\b\b\b\b\b\b\b\b\b\b\b\b\b\b\b\b\b\b\b\b\b\b\b\b\b\b\b\b\b\b\b\b\b\b\b\b\b\b\b\b\b\r41/41 [==============================] - 10s 260ms/step - loss: 0.4306 - accuracy: 0.8506 - val_loss: 0.3834 - val_accuracy: 0.8765\n",
            "Epoch 8/50\n",
            "40/41 [============================>.] - ETA: 0s - loss: 0.4026 - accuracy: 0.8570"
          ]
        },
        {
          "output_type": "stream",
          "name": "stderr",
          "text": [
            "WARNING:absl:Found untraced functions such as lstm_cell_1_layer_call_fn, lstm_cell_1_layer_call_and_return_conditional_losses while saving (showing 2 of 2). These functions will not be directly callable after loading.\n",
            "WARNING:absl:<keras.layers.recurrent.LSTMCell object at 0x7fa284759e50> has the same name 'LSTMCell' as a built-in Keras object. Consider renaming <class 'keras.layers.recurrent.LSTMCell'> to avoid naming conflicts when loading with `tf.keras.models.load_model`. If renaming is not possible, pass the object in the `custom_objects` parameter of the load function.\n"
          ]
        },
        {
          "output_type": "stream",
          "name": "stdout",
          "text": [
            "\b\b\b\b\b\b\b\b\b\b\b\b\b\b\b\b\b\b\b\b\b\b\b\b\b\b\b\b\b\b\b\b\b\b\b\b\b\b\b\b\b\b\b\b\b\b\b\b\b\b\b\b\b\b\b\b\b\b\b\b\b\b\b\b\b\b\b\b\b\b\b\b\b\b\b\b\b\b\b\b\b\b\r41/41 [==============================] - 7s 169ms/step - loss: 0.4045 - accuracy: 0.8568 - val_loss: 0.3787 - val_accuracy: 0.8788\n",
            "Epoch 9/50\n",
            "41/41 [==============================] - ETA: 0s - loss: 0.3829 - accuracy: 0.8693"
          ]
        },
        {
          "output_type": "stream",
          "name": "stderr",
          "text": [
            "WARNING:absl:Found untraced functions such as lstm_cell_1_layer_call_fn, lstm_cell_1_layer_call_and_return_conditional_losses while saving (showing 2 of 2). These functions will not be directly callable after loading.\n",
            "WARNING:absl:<keras.layers.recurrent.LSTMCell object at 0x7fa284759e50> has the same name 'LSTMCell' as a built-in Keras object. Consider renaming <class 'keras.layers.recurrent.LSTMCell'> to avoid naming conflicts when loading with `tf.keras.models.load_model`. If renaming is not possible, pass the object in the `custom_objects` parameter of the load function.\n"
          ]
        },
        {
          "output_type": "stream",
          "name": "stdout",
          "text": [
            "\b\b\b\b\b\b\b\b\b\b\b\b\b\b\b\b\b\b\b\b\b\b\b\b\b\b\b\b\b\b\b\b\b\b\b\b\b\b\b\b\b\b\b\b\b\b\b\b\b\b\b\b\b\b\b\b\b\b\b\b\b\b\b\b\b\b\b\b\b\b\b\b\b\b\b\b\b\b\b\b\b\b\r41/41 [==============================] - 6s 160ms/step - loss: 0.3829 - accuracy: 0.8693 - val_loss: 0.3488 - val_accuracy: 0.8765\n",
            "Epoch 10/50\n",
            "41/41 [==============================] - 2s 55ms/step - loss: 0.3792 - accuracy: 0.8669 - val_loss: 0.3548 - val_accuracy: 0.8788\n",
            "Epoch 11/50\n",
            "41/41 [==============================] - 2s 54ms/step - loss: 0.3842 - accuracy: 0.8802 - val_loss: 0.3694 - val_accuracy: 0.8811\n",
            "Epoch 12/50\n",
            "41/41 [==============================] - ETA: 0s - loss: 0.3568 - accuracy: 0.8732"
          ]
        },
        {
          "output_type": "stream",
          "name": "stderr",
          "text": [
            "WARNING:absl:Found untraced functions such as lstm_cell_1_layer_call_fn, lstm_cell_1_layer_call_and_return_conditional_losses while saving (showing 2 of 2). These functions will not be directly callable after loading.\n",
            "WARNING:absl:<keras.layers.recurrent.LSTMCell object at 0x7fa284759e50> has the same name 'LSTMCell' as a built-in Keras object. Consider renaming <class 'keras.layers.recurrent.LSTMCell'> to avoid naming conflicts when loading with `tf.keras.models.load_model`. If renaming is not possible, pass the object in the `custom_objects` parameter of the load function.\n"
          ]
        },
        {
          "output_type": "stream",
          "name": "stdout",
          "text": [
            "\b\b\b\b\b\b\b\b\b\b\b\b\b\b\b\b\b\b\b\b\b\b\b\b\b\b\b\b\b\b\b\b\b\b\b\b\b\b\b\b\b\b\b\b\b\b\b\b\b\b\b\b\b\b\b\b\b\b\b\b\b\b\b\b\b\b\b\b\b\b\b\b\b\b\b\b\b\b\b\b\b\b\r41/41 [==============================] - 7s 170ms/step - loss: 0.3568 - accuracy: 0.8732 - val_loss: 0.3443 - val_accuracy: 0.8998\n",
            "Epoch 13/50\n",
            "40/41 [============================>.] - ETA: 0s - loss: 0.3231 - accuracy: 0.8852"
          ]
        },
        {
          "output_type": "stream",
          "name": "stderr",
          "text": [
            "WARNING:absl:Found untraced functions such as lstm_cell_1_layer_call_fn, lstm_cell_1_layer_call_and_return_conditional_losses while saving (showing 2 of 2). These functions will not be directly callable after loading.\n",
            "WARNING:absl:<keras.layers.recurrent.LSTMCell object at 0x7fa284759e50> has the same name 'LSTMCell' as a built-in Keras object. Consider renaming <class 'keras.layers.recurrent.LSTMCell'> to avoid naming conflicts when loading with `tf.keras.models.load_model`. If renaming is not possible, pass the object in the `custom_objects` parameter of the load function.\n"
          ]
        },
        {
          "output_type": "stream",
          "name": "stdout",
          "text": [
            "\b\b\b\b\b\b\b\b\b\b\b\b\b\b\b\b\b\b\b\b\b\b\b\b\b\b\b\b\b\b\b\b\b\b\b\b\b\b\b\b\b\b\b\b\b\b\b\b\b\b\b\b\b\b\b\b\b\b\b\b\b\b\b\b\b\b\b\b\b\b\b\b\b\b\b\b\b\b\b\b\b\b\r41/41 [==============================] - 6s 159ms/step - loss: 0.3225 - accuracy: 0.8856 - val_loss: 0.3318 - val_accuracy: 0.8928\n",
            "Epoch 14/50\n",
            "41/41 [==============================] - 2s 56ms/step - loss: 0.4259 - accuracy: 0.8436 - val_loss: 0.3571 - val_accuracy: 0.8718\n",
            "Epoch 15/50\n",
            "40/41 [============================>.] - ETA: 0s - loss: 0.3748 - accuracy: 0.8602"
          ]
        },
        {
          "output_type": "stream",
          "name": "stderr",
          "text": [
            "WARNING:absl:Found untraced functions such as lstm_cell_1_layer_call_fn, lstm_cell_1_layer_call_and_return_conditional_losses while saving (showing 2 of 2). These functions will not be directly callable after loading.\n",
            "WARNING:absl:<keras.layers.recurrent.LSTMCell object at 0x7fa284759e50> has the same name 'LSTMCell' as a built-in Keras object. Consider renaming <class 'keras.layers.recurrent.LSTMCell'> to avoid naming conflicts when loading with `tf.keras.models.load_model`. If renaming is not possible, pass the object in the `custom_objects` parameter of the load function.\n"
          ]
        },
        {
          "output_type": "stream",
          "name": "stdout",
          "text": [
            "\b\b\b\b\b\b\b\b\b\b\b\b\b\b\b\b\b\b\b\b\b\b\b\b\b\b\b\b\b\b\b\b\b\b\b\b\b\b\b\b\b\b\b\b\b\b\b\b\b\b\b\b\b\b\b\b\b\b\b\b\b\b\b\b\b\b\b\b\b\b\b\b\b\b\b\b\b\b\b\b\b\b\r41/41 [==============================] - 7s 170ms/step - loss: 0.3745 - accuracy: 0.8607 - val_loss: 0.3298 - val_accuracy: 0.8765\n",
            "Epoch 16/50\n",
            "40/41 [============================>.] - ETA: 0s - loss: 0.3209 - accuracy: 0.8836"
          ]
        },
        {
          "output_type": "stream",
          "name": "stderr",
          "text": [
            "WARNING:absl:Found untraced functions such as lstm_cell_1_layer_call_fn, lstm_cell_1_layer_call_and_return_conditional_losses while saving (showing 2 of 2). These functions will not be directly callable after loading.\n",
            "WARNING:absl:<keras.layers.recurrent.LSTMCell object at 0x7fa284759e50> has the same name 'LSTMCell' as a built-in Keras object. Consider renaming <class 'keras.layers.recurrent.LSTMCell'> to avoid naming conflicts when loading with `tf.keras.models.load_model`. If renaming is not possible, pass the object in the `custom_objects` parameter of the load function.\n"
          ]
        },
        {
          "output_type": "stream",
          "name": "stdout",
          "text": [
            "\b\b\b\b\b\b\b\b\b\b\b\b\b\b\b\b\b\b\b\b\b\b\b\b\b\b\b\b\b\b\b\b\b\b\b\b\b\b\b\b\b\b\b\b\b\b\b\b\b\b\b\b\b\b\b\b\b\b\b\b\b\b\b\b\b\b\b\b\b\b\b\b\b\b\b\b\b\b\b\b\b\b\r41/41 [==============================] - 7s 169ms/step - loss: 0.3236 - accuracy: 0.8833 - val_loss: 0.3069 - val_accuracy: 0.8881\n",
            "Epoch 17/50\n",
            "40/41 [============================>.] - ETA: 0s - loss: 0.3000 - accuracy: 0.8930"
          ]
        },
        {
          "output_type": "stream",
          "name": "stderr",
          "text": [
            "WARNING:absl:Found untraced functions such as lstm_cell_1_layer_call_fn, lstm_cell_1_layer_call_and_return_conditional_losses while saving (showing 2 of 2). These functions will not be directly callable after loading.\n",
            "WARNING:absl:<keras.layers.recurrent.LSTMCell object at 0x7fa284759e50> has the same name 'LSTMCell' as a built-in Keras object. Consider renaming <class 'keras.layers.recurrent.LSTMCell'> to avoid naming conflicts when loading with `tf.keras.models.load_model`. If renaming is not possible, pass the object in the `custom_objects` parameter of the load function.\n"
          ]
        },
        {
          "output_type": "stream",
          "name": "stdout",
          "text": [
            "\b\b\b\b\b\b\b\b\b\b\b\b\b\b\b\b\b\b\b\b\b\b\b\b\b\b\b\b\b\b\b\b\b\b\b\b\b\b\b\b\b\b\b\b\b\b\b\b\b\b\b\b\b\b\b\b\b\b\b\b\b\b\b\b\b\b\b\b\b\b\b\b\b\b\b\b\b\b\b\b\b\b\r41/41 [==============================] - 6s 157ms/step - loss: 0.2994 - accuracy: 0.8934 - val_loss: 0.2973 - val_accuracy: 0.9091\n",
            "Epoch 18/50\n",
            "41/41 [==============================] - ETA: 0s - loss: 0.2966 - accuracy: 0.8965"
          ]
        },
        {
          "output_type": "stream",
          "name": "stderr",
          "text": [
            "WARNING:absl:Found untraced functions such as lstm_cell_1_layer_call_fn, lstm_cell_1_layer_call_and_return_conditional_losses while saving (showing 2 of 2). These functions will not be directly callable after loading.\n",
            "WARNING:absl:<keras.layers.recurrent.LSTMCell object at 0x7fa284759e50> has the same name 'LSTMCell' as a built-in Keras object. Consider renaming <class 'keras.layers.recurrent.LSTMCell'> to avoid naming conflicts when loading with `tf.keras.models.load_model`. If renaming is not possible, pass the object in the `custom_objects` parameter of the load function.\n"
          ]
        },
        {
          "output_type": "stream",
          "name": "stdout",
          "text": [
            "\b\b\b\b\b\b\b\b\b\b\b\b\b\b\b\b\b\b\b\b\b\b\b\b\b\b\b\b\b\b\b\b\b\b\b\b\b\b\b\b\b\b\b\b\b\b\b\b\b\b\b\b\b\b\b\b\b\b\b\b\b\b\b\b\b\b\b\b\b\b\b\b\b\b\b\b\b\b\b\b\b\b\r41/41 [==============================] - 7s 168ms/step - loss: 0.2966 - accuracy: 0.8965 - val_loss: 0.2905 - val_accuracy: 0.9021\n",
            "Epoch 19/50\n",
            "41/41 [==============================] - 2s 52ms/step - loss: 0.2775 - accuracy: 0.9035 - val_loss: 0.2915 - val_accuracy: 0.9021\n",
            "Epoch 20/50\n",
            "40/41 [============================>.] - ETA: 0s - loss: 0.2784 - accuracy: 0.9023"
          ]
        },
        {
          "output_type": "stream",
          "name": "stderr",
          "text": [
            "WARNING:absl:Found untraced functions such as lstm_cell_1_layer_call_fn, lstm_cell_1_layer_call_and_return_conditional_losses while saving (showing 2 of 2). These functions will not be directly callable after loading.\n",
            "WARNING:absl:<keras.layers.recurrent.LSTMCell object at 0x7fa284759e50> has the same name 'LSTMCell' as a built-in Keras object. Consider renaming <class 'keras.layers.recurrent.LSTMCell'> to avoid naming conflicts when loading with `tf.keras.models.load_model`. If renaming is not possible, pass the object in the `custom_objects` parameter of the load function.\n"
          ]
        },
        {
          "output_type": "stream",
          "name": "stdout",
          "text": [
            "\b\b\b\b\b\b\b\b\b\b\b\b\b\b\b\b\b\b\b\b\b\b\b\b\b\b\b\b\b\b\b\b\b\b\b\b\b\b\b\b\b\b\b\b\b\b\b\b\b\b\b\b\b\b\b\b\b\b\b\b\b\b\b\b\b\b\b\b\b\b\b\b\b\b\b\b\b\b\b\b\b\b\r41/41 [==============================] - 7s 168ms/step - loss: 0.2780 - accuracy: 0.9027 - val_loss: 0.2810 - val_accuracy: 0.9138\n",
            "Epoch 21/50\n",
            "41/41 [==============================] - ETA: 0s - loss: 0.2661 - accuracy: 0.9066"
          ]
        },
        {
          "output_type": "stream",
          "name": "stderr",
          "text": [
            "WARNING:absl:Found untraced functions such as lstm_cell_1_layer_call_fn, lstm_cell_1_layer_call_and_return_conditional_losses while saving (showing 2 of 2). These functions will not be directly callable after loading.\n",
            "WARNING:absl:<keras.layers.recurrent.LSTMCell object at 0x7fa284759e50> has the same name 'LSTMCell' as a built-in Keras object. Consider renaming <class 'keras.layers.recurrent.LSTMCell'> to avoid naming conflicts when loading with `tf.keras.models.load_model`. If renaming is not possible, pass the object in the `custom_objects` parameter of the load function.\n"
          ]
        },
        {
          "output_type": "stream",
          "name": "stdout",
          "text": [
            "\b\b\b\b\b\b\b\b\b\b\b\b\b\b\b\b\b\b\b\b\b\b\b\b\b\b\b\b\b\b\b\b\b\b\b\b\b\b\b\b\b\b\b\b\b\b\b\b\b\b\b\b\b\b\b\b\b\b\b\b\b\b\b\b\b\b\b\b\b\b\b\b\b\b\b\b\b\b\b\b\b\b\r41/41 [==============================] - 8s 206ms/step - loss: 0.2661 - accuracy: 0.9066 - val_loss: 0.2753 - val_accuracy: 0.9091\n",
            "Epoch 22/50\n",
            "41/41 [==============================] - 2s 53ms/step - loss: 0.2543 - accuracy: 0.9167 - val_loss: 0.2851 - val_accuracy: 0.9254\n",
            "Epoch 23/50\n",
            "41/41 [==============================] - 2s 53ms/step - loss: 0.2750 - accuracy: 0.9152 - val_loss: 0.3096 - val_accuracy: 0.9091\n",
            "Epoch 24/50\n",
            "41/41 [==============================] - ETA: 0s - loss: 0.2543 - accuracy: 0.9144"
          ]
        },
        {
          "output_type": "stream",
          "name": "stderr",
          "text": [
            "WARNING:absl:Found untraced functions such as lstm_cell_1_layer_call_fn, lstm_cell_1_layer_call_and_return_conditional_losses while saving (showing 2 of 2). These functions will not be directly callable after loading.\n",
            "WARNING:absl:<keras.layers.recurrent.LSTMCell object at 0x7fa284759e50> has the same name 'LSTMCell' as a built-in Keras object. Consider renaming <class 'keras.layers.recurrent.LSTMCell'> to avoid naming conflicts when loading with `tf.keras.models.load_model`. If renaming is not possible, pass the object in the `custom_objects` parameter of the load function.\n"
          ]
        },
        {
          "output_type": "stream",
          "name": "stdout",
          "text": [
            "\b\b\b\b\b\b\b\b\b\b\b\b\b\b\b\b\b\b\b\b\b\b\b\b\b\b\b\b\b\b\b\b\b\b\b\b\b\b\b\b\b\b\b\b\b\b\b\b\b\b\b\b\b\b\b\b\b\b\b\b\b\b\b\b\b\b\b\b\b\b\b\b\b\b\b\b\b\b\b\b\b\b\r41/41 [==============================] - 7s 168ms/step - loss: 0.2543 - accuracy: 0.9144 - val_loss: 0.2696 - val_accuracy: 0.9161\n",
            "Epoch 25/50\n",
            "41/41 [==============================] - ETA: 0s - loss: 0.2514 - accuracy: 0.9222"
          ]
        },
        {
          "output_type": "stream",
          "name": "stderr",
          "text": [
            "WARNING:absl:Found untraced functions such as lstm_cell_1_layer_call_fn, lstm_cell_1_layer_call_and_return_conditional_losses while saving (showing 2 of 2). These functions will not be directly callable after loading.\n",
            "WARNING:absl:<keras.layers.recurrent.LSTMCell object at 0x7fa284759e50> has the same name 'LSTMCell' as a built-in Keras object. Consider renaming <class 'keras.layers.recurrent.LSTMCell'> to avoid naming conflicts when loading with `tf.keras.models.load_model`. If renaming is not possible, pass the object in the `custom_objects` parameter of the load function.\n"
          ]
        },
        {
          "output_type": "stream",
          "name": "stdout",
          "text": [
            "\b\b\b\b\b\b\b\b\b\b\b\b\b\b\b\b\b\b\b\b\b\b\b\b\b\b\b\b\b\b\b\b\b\b\b\b\b\b\b\b\b\b\b\b\b\b\b\b\b\b\b\b\b\b\b\b\b\b\b\b\b\b\b\b\b\b\b\b\b\b\b\b\b\b\b\b\b\b\b\b\b\b\r41/41 [==============================] - 7s 165ms/step - loss: 0.2514 - accuracy: 0.9222 - val_loss: 0.2622 - val_accuracy: 0.8974\n",
            "Epoch 26/50\n",
            "41/41 [==============================] - 2s 54ms/step - loss: 0.2161 - accuracy: 0.9393 - val_loss: 0.2647 - val_accuracy: 0.9114\n",
            "Epoch 27/50\n",
            "41/41 [==============================] - 2s 53ms/step - loss: 0.1961 - accuracy: 0.9494 - val_loss: 0.2685 - val_accuracy: 0.9277\n",
            "Epoch 28/50\n",
            "40/41 [============================>.] - ETA: 0s - loss: 0.1887 - accuracy: 0.9461"
          ]
        },
        {
          "output_type": "stream",
          "name": "stderr",
          "text": [
            "WARNING:absl:Found untraced functions such as lstm_cell_1_layer_call_fn, lstm_cell_1_layer_call_and_return_conditional_losses while saving (showing 2 of 2). These functions will not be directly callable after loading.\n",
            "WARNING:absl:<keras.layers.recurrent.LSTMCell object at 0x7fa284759e50> has the same name 'LSTMCell' as a built-in Keras object. Consider renaming <class 'keras.layers.recurrent.LSTMCell'> to avoid naming conflicts when loading with `tf.keras.models.load_model`. If renaming is not possible, pass the object in the `custom_objects` parameter of the load function.\n"
          ]
        },
        {
          "output_type": "stream",
          "name": "stdout",
          "text": [
            "\b\b\b\b\b\b\b\b\b\b\b\b\b\b\b\b\b\b\b\b\b\b\b\b\b\b\b\b\b\b\b\b\b\b\b\b\b\b\b\b\b\b\b\b\b\b\b\b\b\b\b\b\b\b\b\b\b\b\b\b\b\b\b\b\b\b\b\b\b\b\b\b\b\b\b\b\b\b\b\b\b\b\r41/41 [==============================] - 6s 156ms/step - loss: 0.1915 - accuracy: 0.9455 - val_loss: 0.2530 - val_accuracy: 0.9231\n",
            "Epoch 29/50\n",
            "41/41 [==============================] - 2s 54ms/step - loss: 0.2072 - accuracy: 0.9416 - val_loss: 0.2662 - val_accuracy: 0.9231\n",
            "Epoch 30/50\n",
            "41/41 [==============================] - 2s 51ms/step - loss: 0.1784 - accuracy: 0.9580 - val_loss: 0.2589 - val_accuracy: 0.9231\n",
            "Epoch 31/50\n",
            "41/41 [==============================] - 2s 54ms/step - loss: 0.2096 - accuracy: 0.9346 - val_loss: 0.2683 - val_accuracy: 0.9207\n",
            "Epoch 32/50\n",
            "41/41 [==============================] - ETA: 0s - loss: 0.1901 - accuracy: 0.9471"
          ]
        },
        {
          "output_type": "stream",
          "name": "stderr",
          "text": [
            "WARNING:absl:Found untraced functions such as lstm_cell_1_layer_call_fn, lstm_cell_1_layer_call_and_return_conditional_losses while saving (showing 2 of 2). These functions will not be directly callable after loading.\n",
            "WARNING:absl:<keras.layers.recurrent.LSTMCell object at 0x7fa284759e50> has the same name 'LSTMCell' as a built-in Keras object. Consider renaming <class 'keras.layers.recurrent.LSTMCell'> to avoid naming conflicts when loading with `tf.keras.models.load_model`. If renaming is not possible, pass the object in the `custom_objects` parameter of the load function.\n"
          ]
        },
        {
          "output_type": "stream",
          "name": "stdout",
          "text": [
            "\b\b\b\b\b\b\b\b\b\b\b\b\b\b\b\b\b\b\b\b\b\b\b\b\b\b\b\b\b\b\b\b\b\b\b\b\b\b\b\b\b\b\b\b\b\b\b\b\b\b\b\b\b\b\b\b\b\b\b\b\b\b\b\b\b\b\b\b\b\b\b\b\b\b\b\b\b\b\b\b\b\b\r41/41 [==============================] - 7s 168ms/step - loss: 0.1901 - accuracy: 0.9471 - val_loss: 0.2428 - val_accuracy: 0.9301\n",
            "Epoch 33/50\n",
            "41/41 [==============================] - 2s 54ms/step - loss: 0.1706 - accuracy: 0.9556 - val_loss: 0.2710 - val_accuracy: 0.9277\n",
            "Epoch 34/50\n",
            "41/41 [==============================] - 2s 54ms/step - loss: 0.1774 - accuracy: 0.9486 - val_loss: 0.2534 - val_accuracy: 0.9277\n",
            "Epoch 35/50\n",
            "41/41 [==============================] - 2s 55ms/step - loss: 0.1531 - accuracy: 0.9588 - val_loss: 0.2455 - val_accuracy: 0.9207\n",
            "Epoch 36/50\n",
            "41/41 [==============================] - 2s 55ms/step - loss: 0.1438 - accuracy: 0.9564 - val_loss: 0.2555 - val_accuracy: 0.9138\n",
            "Epoch 37/50\n",
            "41/41 [==============================] - 2s 52ms/step - loss: 0.2280 - accuracy: 0.9276 - val_loss: 0.2458 - val_accuracy: 0.9231\n",
            "Epoch 38/50\n",
            "41/41 [==============================] - 2s 56ms/step - loss: 0.1555 - accuracy: 0.9533 - val_loss: 0.2553 - val_accuracy: 0.9021\n",
            "Epoch 39/50\n",
            "41/41 [==============================] - 2s 53ms/step - loss: 0.1330 - accuracy: 0.9626 - val_loss: 0.2741 - val_accuracy: 0.9161\n",
            "Epoch 40/50\n",
            "40/41 [============================>.] - ETA: 0s - loss: 0.1642 - accuracy: 0.9492"
          ]
        },
        {
          "output_type": "stream",
          "name": "stderr",
          "text": [
            "WARNING:absl:Found untraced functions such as lstm_cell_1_layer_call_fn, lstm_cell_1_layer_call_and_return_conditional_losses while saving (showing 2 of 2). These functions will not be directly callable after loading.\n",
            "WARNING:absl:<keras.layers.recurrent.LSTMCell object at 0x7fa284759e50> has the same name 'LSTMCell' as a built-in Keras object. Consider renaming <class 'keras.layers.recurrent.LSTMCell'> to avoid naming conflicts when loading with `tf.keras.models.load_model`. If renaming is not possible, pass the object in the `custom_objects` parameter of the load function.\n"
          ]
        },
        {
          "output_type": "stream",
          "name": "stdout",
          "text": [
            "\b\b\b\b\b\b\b\b\b\b\b\b\b\b\b\b\b\b\b\b\b\b\b\b\b\b\b\b\b\b\b\b\b\b\b\b\b\b\b\b\b\b\b\b\b\b\b\b\b\b\b\b\b\b\b\b\b\b\b\b\b\b\b\b\b\b\b\b\b\b\b\b\b\b\b\b\b\b\b\b\b\b\r41/41 [==============================] - 7s 165ms/step - loss: 0.1643 - accuracy: 0.9486 - val_loss: 0.2387 - val_accuracy: 0.9347\n",
            "Epoch 41/50\n",
            "41/41 [==============================] - 2s 54ms/step - loss: 0.1504 - accuracy: 0.9510 - val_loss: 0.2489 - val_accuracy: 0.9231\n",
            "Epoch 42/50\n",
            "41/41 [==============================] - 2s 53ms/step - loss: 0.1309 - accuracy: 0.9611 - val_loss: 0.2890 - val_accuracy: 0.8951\n",
            "Epoch 43/50\n",
            "41/41 [==============================] - 2s 54ms/step - loss: 0.1520 - accuracy: 0.9533 - val_loss: 0.2428 - val_accuracy: 0.9231\n",
            "Epoch 44/50\n",
            "41/41 [==============================] - 2s 52ms/step - loss: 0.1212 - accuracy: 0.9689 - val_loss: 0.2601 - val_accuracy: 0.9161\n",
            "Epoch 45/50\n",
            "41/41 [==============================] - 2s 55ms/step - loss: 0.1286 - accuracy: 0.9665 - val_loss: 0.2506 - val_accuracy: 0.9277\n",
            "Epoch 46/50\n",
            "41/41 [==============================] - 2s 55ms/step - loss: 0.1055 - accuracy: 0.9743 - val_loss: 0.2478 - val_accuracy: 0.9371\n",
            "Epoch 47/50\n",
            "41/41 [==============================] - 2s 58ms/step - loss: 0.0996 - accuracy: 0.9728 - val_loss: 0.2510 - val_accuracy: 0.9371\n",
            "Epoch 48/50\n",
            "41/41 [==============================] - 2s 54ms/step - loss: 0.0994 - accuracy: 0.9759 - val_loss: 0.2588 - val_accuracy: 0.9277\n",
            "Epoch 49/50\n",
            "41/41 [==============================] - 2s 54ms/step - loss: 0.0837 - accuracy: 0.9790 - val_loss: 0.2543 - val_accuracy: 0.9371\n",
            "Epoch 50/50\n",
            "41/41 [==============================] - 2s 54ms/step - loss: 0.0931 - accuracy: 0.9673 - val_loss: 0.2638 - val_accuracy: 0.9277\n"
          ]
        }
      ],
      "source": [
        "from tensorflow.keras.callbacks import ModelCheckpoint\n",
        "cp = ModelCheckpoint('model1', save_best_only = True, save_weight_only = False)\n",
        "history = model.fit(X_train, y_train, epochs = n_epochs, validation_data = (X_test, y_test), batch_size = batch_size, verbose = 1, callbacks=[cp])\n",
        "\n",
        "#history = model.fit(X_train, y_train, epochs = n_epochs, validation_data = (X_test, y_test), batch_size = batch_size, verbose = 1)\n"
      ]
    },
    {
      "cell_type": "code",
      "execution_count": null,
      "metadata": {
        "colab": {
          "base_uri": "https://localhost:8080/"
        },
        "id": "AwAAcbOtKO_Y",
        "outputId": "7409ca38-dfe4-40a5-da3b-39424e19f8ab"
      },
      "outputs": [
        {
          "output_type": "stream",
          "name": "stderr",
          "text": [
            "WARNING:absl:Found untraced functions such as lstm_cell_1_layer_call_fn, lstm_cell_1_layer_call_and_return_conditional_losses while saving (showing 2 of 2). These functions will not be directly callable after loading.\n",
            "WARNING:absl:<keras.layers.recurrent.LSTMCell object at 0x7fa284759e50> has the same name 'LSTMCell' as a built-in Keras object. Consider renaming <class 'keras.layers.recurrent.LSTMCell'> to avoid naming conflicts when loading with `tf.keras.models.load_model`. If renaming is not possible, pass the object in the `custom_objects` parameter of the load function.\n"
          ]
        }
      ],
      "source": [
        "model.save('/content/drive/MyDrive/Bike_model_LSTM')"
      ]
    },
    {
      "cell_type": "code",
      "execution_count": null,
      "metadata": {
        "id": "iyylqC54e3uI"
      },
      "outputs": [],
      "source": [
        "from tensorflow.keras.models import load_model\n",
        "\n",
        "model1 = load_model('/content/model1')\n"
      ]
    },
    {
      "cell_type": "code",
      "execution_count": null,
      "metadata": {
        "colab": {
          "base_uri": "https://localhost:8080/",
          "height": 295
        },
        "id": "zWryKn_oUbo2",
        "outputId": "24c43a15-24db-49b6-c32d-4c5d1c4279dc"
      },
      "outputs": [
        {
          "data": {
            "image/png": "[encoded data removed]",
            "text/plain": [
              "<Figure size 432x288 with 1 Axes>"
            ]
          },
          "metadata": {},
          "output_type": "display_data"
        }
      ],
      "source": [
        "plt.plot(np.array(history.history['loss']), \"r--\", label = \"Train loss\")\n",
        "plt.plot(np.array(history.history['accuracy']), \"g--\", label = \"Train accuracy\")\n",
        "plt.plot(np.array(history.history['val_loss']), \"r-\", label = \"Validation loss\")\n",
        "plt.plot(np.array(history.history['val_accuracy']), \"g-\", label = \"Validation accuracy\")\n",
        "plt.title(\"Training session's progress over iterations\")\n",
        "plt.legend(loc='lower left')\n",
        "plt.ylabel('Training Progress (Loss/Accuracy)')\n",
        "plt.xlabel('Training Epoch')\n",
        "plt.ylim(0) \n",
        "plt.show()"
      ]
    },
    {
      "cell_type": "code",
      "execution_count": null,
      "metadata": {
        "colab": {
          "base_uri": "https://localhost:8080/"
        },
        "id": "l5-Iah9FUbk7",
        "outputId": "fd2772a1-4fa2-4bc7-98c1-5f271acc0c0e"
      },
      "outputs": [
        {
          "name": "stdout",
          "output_type": "stream",
          "text": [
            "14/14 [==============================] - 1s 14ms/step - loss: 0.2580 - accuracy: 0.9091\n",
            "Test Accuracy : 0.9090909361839294\n",
            "Test Loss : 0.25803762674331665\n"
          ]
        }
      ],
      "source": [
        "loss, accuracy = model1.evaluate(X_test, y_test, batch_size = batch_size, verbose = 1)\n",
        "print(\"Test Accuracy :\", accuracy)\n",
        "print(\"Test Loss :\", loss)"
      ]
    },
    {
      "cell_type": "markdown",
      "metadata": {
        "id": "wzHhlbPwAn-F"
      },
      "source": [
        "DO NOT RUN CODE GIVEN BELOW"
      ]
    },
    {
      "cell_type": "code",
      "execution_count": null,
      "metadata": {
        "id": "BRSn1fzfAng_"
      },
      "outputs": [],
      "source": []
    }
  ],
  "metadata": {
    "colab": {
      "provenance": []
    },
    "kernelspec": {
      "display_name": "Python 3",
      "name": "python3"
    },
    "language_info": {
      "name": "python"
    }
  },
  "nbformat": 4,
  "nbformat_minor": 0
}
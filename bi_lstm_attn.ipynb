{
  "nbformat": 4,
  "nbformat_minor": 0,
  "metadata": {
    "colab": {
      "provenance": []
    },
    "kernelspec": {
      "name": "python3",
      "display_name": "Python 3"
    },
    "language_info": {
      "name": "python"
    }
  },
  "cells": [
    {
      "cell_type": "code",
      "execution_count": null,
      "metadata": {
        "id": "83guxcl3XSJK"
      },
      "outputs": [],
      "source": [
        "import tensorflow as tf\n",
        "from tensorflow import keras\n",
        "import numpy as np \n",
        "import pandas as pd\n",
        "import matplotlib.pyplot as plt\n",
        "import seaborn as sns\n",
        "import warnings\n",
        "from scipy import stats\n",
        "from keras.models import Sequential\n",
        "from keras.layers import LSTM, Dense, Flatten, Dropout\n",
        "warnings.filterwarnings('ignore')\n",
        "import numpy as np\n",
        "from keras.preprocessing import sequence\n",
        "from keras.models import Sequential\n",
        "from keras.layers import Dense, Dropout, Embedding, LSTM, Bidirectional\n"
      ]
    },
    {
      "cell_type": "code",
      "source": [
        "test =pd.read_csv('/content/data_test_24-29.csv')\n",
        "train = pd.read_csv('/content/data_train_24-29 (1).csv')\n",
        "\n"
      ],
      "metadata": {
        "id": "QvA1top7XTzU"
      },
      "execution_count": null,
      "outputs": []
    },
    {
      "cell_type": "code",
      "source": [
        "train_data = train.drop(['TIME IN GMT','TIME IN IST','Lat ','Long', 'Time','T','Date'], axis=1)\n",
        "test_data = test.drop(['TIME IN GMT','TIME IN IST','Lat ','Long', 'Time','T','Date'], axis=1)\n"
      ],
      "metadata": {
        "id": "SVnX3K9lXVgL"
      },
      "execution_count": null,
      "outputs": []
    },
    {
      "cell_type": "code",
      "source": [
        "train_data.dropna(axis=0, how='any', inplace=True)\n"
      ],
      "metadata": {
        "id": "GItPS7pdXXle"
      },
      "execution_count": null,
      "outputs": []
    },
    {
      "cell_type": "code",
      "source": [
        "test_data.dropna(axis=0, how='any', inplace=True)\n",
        "test_data.shape"
      ],
      "metadata": {
        "colab": {
          "base_uri": "https://localhost:8080/"
        },
        "id": "Cav1QDS-XZdk",
        "outputId": "4c76c0d1-31f6-4757-c126-84bf8e2cb5b1"
      },
      "execution_count": null,
      "outputs": [
        {
          "output_type": "execute_result",
          "data": {
            "text/plain": [
              "(44574, 8)"
            ]
          },
          "metadata": {},
          "execution_count": 5
        }
      ]
    },
    {
      "cell_type": "code",
      "source": [
        "n_time_steps = 104\n",
        "n_features = 7 \n",
        "step = 80\n",
        "n_classes = 5 \n",
        "n_epochs = 50       \n",
        "batch_size = 64   \n",
        "learning_rate = 0.0001\n",
        "l2_loss = 0.00015\n",
        "\n",
        "segments = []\n",
        "labels = []\n"
      ],
      "metadata": {
        "id": "vqfDVXn4XoID"
      },
      "execution_count": null,
      "outputs": []
    },
    {
      "cell_type": "code",
      "source": [
        "for i in range(0,  train_data.shape[0]- n_time_steps, step):  \n",
        "\n",
        "    Ax_tr = train_data['Ax'].values[i: i + n_time_steps]\n",
        "\n",
        "    Ay_tr = train_data['Ay'].values[i: i + n_time_steps]\n",
        "\n",
        "    Az_tr = train_data['Az'].values[i: i + n_time_steps]\n",
        "\n",
        "    Gx_tr = train_data['Gx'].values[i: i + n_time_steps]\n",
        "\n",
        "    Gy_tr = train_data['Gy'].values[i: i + n_time_steps]\n",
        "\n",
        "    Gz_tr = train_data['Gz'].values[i: i + n_time_steps]\n",
        "\n",
        "    Speed_tr = train_data['Speed'].values[i: i + n_time_steps]\n",
        "\n",
        "\n",
        "    label_tr = stats.mode(train_data['Label'][i: i + n_time_steps])[0][0]\n",
        "\n",
        "    segments.append([Ax_tr, Ay_tr, Az_tr, Gx_tr,Gy_tr,Gz_tr,Speed_tr])\n",
        "\n",
        "    labels.append(label_tr)"
      ],
      "metadata": {
        "id": "J8n3ONXxXpdt"
      },
      "execution_count": null,
      "outputs": []
    },
    {
      "cell_type": "code",
      "source": [
        "X_train = np.asarray(segments, dtype= np.float32).reshape(-1, n_time_steps, n_features)\n",
        "\n",
        "y_train = np.asarray(pd.get_dummies(labels), dtype = np.float32)\n",
        "\n",
        "X_train.shape"
      ],
      "metadata": {
        "colab": {
          "base_uri": "https://localhost:8080/"
        },
        "id": "cMJjXkmLXqor",
        "outputId": "11061ec2-497a-4e72-9c63-9a54beb177cd"
      },
      "execution_count": null,
      "outputs": [
        {
          "output_type": "execute_result",
          "data": {
            "text/plain": [
              "(2228, 104, 7)"
            ]
          },
          "metadata": {},
          "execution_count": 8
        }
      ]
    },
    {
      "cell_type": "code",
      "source": [
        "reshaped_segments = np.asarray(segments, dtype= np.float32).reshape(-1, n_time_steps, n_features)"
      ],
      "metadata": {
        "id": "6u5ASnWtXsnX"
      },
      "execution_count": null,
      "outputs": []
    },
    {
      "cell_type": "code",
      "source": [
        "labels = np.asarray(pd.get_dummies(labels), dtype = np.float32)\n",
        "\n",
        "reshaped_segments.shape"
      ],
      "metadata": {
        "colab": {
          "base_uri": "https://localhost:8080/"
        },
        "id": "ZF8PCciQXuFK",
        "outputId": "71554271-650a-4c86-d6b7-aa6c81275e22"
      },
      "execution_count": null,
      "outputs": [
        {
          "output_type": "execute_result",
          "data": {
            "text/plain": [
              "(2228, 104, 7)"
            ]
          },
          "metadata": {},
          "execution_count": 10
        }
      ]
    },
    {
      "cell_type": "code",
      "source": [
        "from sklearn.model_selection import train_test_split\n",
        "X_train, X_test, y_train, y_test = train_test_split(reshaped_segments, labels, test_size = 0.25)\n"
      ],
      "metadata": {
        "id": "3O4C1lVoXvQ-"
      },
      "execution_count": null,
      "outputs": []
    },
    {
      "cell_type": "code",
      "source": [
        "\n",
        "import os\n",
        "from tensorflow.keras import Input\n",
        "from tensorflow.keras.models import load_model, Model\n",
        "\n",
        "from tensorflow.keras import backend as K\n",
        "from tensorflow.keras.layers import Dense, Lambda, Dot, Activation, Concatenate, Layer\n",
        "\n",
        "# KERAS_ATTENTION_DEBUG: If set to 1. Will switch to debug mode.\n",
        "# In debug mode, the class Attention is no longer a Keras layer.\n",
        "# What it means in practice is that we can have access to the internal values\n",
        "# of each tensor. If we don't use debug, Keras treats the object\n",
        "# as a layer and we can only get the final output.\n",
        "debug_flag = int(os.environ.get('KERAS_ATTENTION_DEBUG', 0))\n",
        "\n",
        "\n",
        "# class Attention(object if debug_flag else Layer):\n",
        "\n",
        "#     def __init__(self, units=128, **kwargs):\n",
        "#         super(Attention, self).__init__(**kwargs)\n",
        "#         self.units = units\n",
        "\n",
        "#     # noinspection PyAttributeOutsideInit\n",
        "#     def build(self, input_shape):\n",
        "#         input_dim = int(input_shape[-1])\n",
        "#         with K.name_scope(self.name if not debug_flag else 'attention'):\n",
        "#             self.attention_score_vec = Dense(input_dim, use_bias=False, name='attention_score_vec')\n",
        "#             self.h_t = Lambda(lambda x: x[:, -1, :], output_shape=(input_dim,), name='last_hidden_state')\n",
        "#             self.attention_score = Dot(axes=[1, 2], name='attention_score')\n",
        "#             self.attention_weight = Activation('softmax', name='attention_weight')\n",
        "#             self.context_vector = Dot(axes=[1, 1], name='context_vector')\n",
        "#             self.attention_output = Concatenate(name='attention_output')\n",
        "#             self.attention_vector = Dense(self.units, use_bias=False, activation='tanh', name='attention_vector')\n",
        "#         if not debug_flag:\n",
        "#             # debug: the call to build() is done in call().\n",
        "#             super(Attention, self).build(input_shape)\n",
        "\n",
        "#     def compute_output_shape(self, input_shape):\n",
        "#         return input_shape[0], self.units\n",
        "\n",
        "#     def __call__(self, inputs, training=None, **kwargs):\n",
        "#         if debug_flag:\n",
        "#             return self.call(inputs, training, **kwargs)\n",
        "#         else:\n",
        "#             return super(Attention, self).__call__(inputs, training, **kwargs)\n",
        "\n",
        "#     # noinspection PyUnusedLocal\n",
        "#     def call(self, inputs, training=None, **kwargs):\n",
        "#         \"\"\"\n",
        "#         Many-to-one attention mechanism for Keras.\n",
        "#         @param inputs: 3D tensor with shape (batch_size, time_steps, input_dim).\n",
        "#         @param training: not used in this layer.\n",
        "#         @return: 2D tensor with shape (batch_size, units)\n",
        "#         @author: felixhao28, philipperemy.\n",
        "#         \"\"\"\n",
        "#         if debug_flag:\n",
        "#             self.build(inputs.shape)\n",
        "#         # Inside dense layer\n",
        "#         #              hidden_states            dot               W            =>           score_first_part\n",
        "#         # (batch_size, time_steps, hidden_size) dot (hidden_size, hidden_size) => (batch_size, time_steps, hidden_size)\n",
        "#         # W is the trainable weight matrix of attention Luong's multiplicative style score\n",
        "#         score_first_part = self.attention_score_vec(inputs)\n",
        "#         #            score_first_part           dot        last_hidden_state     => attention_weights\n",
        "#         # (batch_size, time_steps, hidden_size) dot   (batch_size, hidden_size)  => (batch_size, time_steps)\n",
        "#         h_t = self.h_t(inputs)\n",
        "#         score = self.attention_score([h_t, score_first_part])\n",
        "#         attention_weights = self.attention_weight(score)\n",
        "#         # (batch_size, time_steps, hidden_size) dot (batch_size, time_steps) => (batch_size, hidden_size)\n",
        "#         context_vector = self.context_vector([inputs, attention_weights])\n",
        "#         pre_activation = self.attention_output([context_vector, h_t])\n",
        "#         attention_vector = self.attention_vector(pre_activation)\n",
        "#         return attention_vector\n",
        "\n",
        "#     def get_config(self):\n",
        "#         \"\"\"\n",
        "#         Returns the config of a the layer. This is used for saving and loading from a model\n",
        "#         :return: python dictionary with specs to rebuild layer\n",
        "#         \"\"\"\n",
        "#         config = super(Attention, self).get_config()\n",
        "#         config.update({'units': self.units})\n",
        "#         return config\n"
      ],
      "metadata": {
        "id": "dG9ysej4vmm6"
      },
      "execution_count": null,
      "outputs": []
    },
    {
      "cell_type": "code",
      "source": [
        "class Attention(Layer):\n",
        "    \n",
        "    def __init__(self, return_sequences=True):\n",
        "        self.return_sequences = return_sequences\n",
        "        super(Attention,self).__init__()\n",
        "        \n",
        "    def build(self, input_shape):\n",
        "        \n",
        "        self.W=self.add_weight(name=\"att_weight\", shape=(input_shape[-1],1),\n",
        "                               initializer=\"normal\")\n",
        "        self.b=self.add_weight(name=\"att_bias\", shape=(input_shape[1],1),\n",
        "                               initializer=\"zeros\")\n",
        "        \n",
        "        super(Attention,self).build(input_shape)\n",
        "        \n",
        "    def call(self, x):\n",
        "        \n",
        "        e = K.tanh(K.dot(x,self.W)+self.b)\n",
        "        a = K.softmax(e, axis=1)\n",
        "        output = x*a\n",
        "        \n",
        "        if self.return_sequences:\n",
        "            return output\n",
        "        \n",
        "        return K.sum(output, axis=1)\n",
        "\n",
        "    def get_config(self):\n",
        "        config = super().get_config().copy()\n",
        "        config.update({\n",
        "            'return_sequences': self.return_sequences \n",
        "        })\n",
        "        return config"
      ],
      "metadata": {
        "id": "6FrATQVu-A7i"
      },
      "execution_count": null,
      "outputs": []
    },
    {
      "cell_type": "code",
      "source": [
        "# from keras.models import Sequential\n",
        "# from keras.layers import LSTM, Dense, Flatten, Dropout\n",
        "# from keras.layers import TimeDistributed\n",
        "\n",
        "# import os\n",
        "# from tensorflow.keras import Input\n",
        "# from tensorflow.keras.models import load_model, Model\n",
        "\n",
        "# from tensorflow.keras import backend as K\n",
        "# from tensorflow.keras.layers import Dense, Lambda, Dot, Activation, Concatenate, Layer\n",
        "# # model = Sequential()\n",
        "# # # RNN layer\n",
        "# # model.add(LSTM(units = 100, input_shape = (X_train.shape[1], X_train.shape[2])))\n",
        "\n",
        "# # # Dropout layer\n",
        "# # model.add(Dropout(0.4))\n",
        " \n",
        "# # # Dense layer with ReLu\n",
        "# # model.add(Dense(units = 32, activation='tanh'))\n",
        "\n",
        "# # # Softmax layer\n",
        "# # model.add(Dense(y_train.shape[1], activation = 'softplus'))\n",
        "\n",
        "# # # Compile model\n",
        "# # model.compile(loss='categorical_crossentropy', optimizer='adam', metrics=['accuracy'])\n",
        "\n",
        "# # model.summary()\n",
        "from keras.models import Sequential\n",
        "from keras.layers import LSTM, Dense, Flatten, Dropout\n",
        "from keras.models import Sequential\n",
        "# from keras.layers import LSTM\n",
        "# from keras.layers import Dense\n",
        "# from keras.layers import TimeDistributed\n",
        "from keras.layers import Bidirectional\n",
        "\n",
        "# model = Sequential()\n",
        "# x = model.add(Bidirectional(LSTM(100, return_sequences=False), input_shape=(X_train.shape[1], X_train.shape[2])))\n",
        "# # model.add(Bidirectional(LSTM(100)))(x)\n",
        "# x = Attention(units=32)(x)\n",
        "\n",
        "# x = model.add(Dense(units = 64, activation='tanh'))(x)\n",
        "# model.add(Dense(y_train.shape[1], activation = 'softplus'))(x)\n",
        "# model.compile(loss='categorical_crossentropy', optimizer='adam', metrics=['accuracy'])\n",
        "# model.summary()\n",
        "model_input = Input(shape=(X_train.shape[1], X_train.shape[2]))\n",
        "x = (Bidirectional(LSTM(100, return_sequences=True,dropout = 0.01)))(model_input)\n",
        "x = Attention(return_sequences=False)(x) # receive 3D and output 2D\n",
        "x = Dense(units = 64, activation='tanh')(x)\n",
        "x = Dense(y_train.shape[1], activation = 'softplus')(x)\n",
        "model = Model(model_input, x)\n",
        "model.compile(loss='categorical_crossentropy', optimizer='adam', metrics=['accuracy'])\n",
        "model.summary()"
      ],
      "metadata": {
        "colab": {
          "base_uri": "https://localhost:8080/"
        },
        "id": "sjrNn133XwbN",
        "outputId": "76c79dbd-2f14-4956-8477-27edcc9290b2"
      },
      "execution_count": null,
      "outputs": [
        {
          "output_type": "stream",
          "name": "stdout",
          "text": [
            "Model: \"model\"\n",
            "_________________________________________________________________\n",
            " Layer (type)                Output Shape              Param #   \n",
            "=================================================================\n",
            " input_1 (InputLayer)        [(None, 104, 7)]          0         \n",
            "                                                                 \n",
            " bidirectional (Bidirectiona  (None, 104, 200)         86400     \n",
            " l)                                                              \n",
            "                                                                 \n",
            " attention (Attention)       (None, 200)               304       \n",
            "                                                                 \n",
            " dense (Dense)               (None, 64)                12864     \n",
            "                                                                 \n",
            " dense_1 (Dense)             (None, 5)                 325       \n",
            "                                                                 \n",
            "=================================================================\n",
            "Total params: 99,893\n",
            "Trainable params: 99,893\n",
            "Non-trainable params: 0\n",
            "_________________________________________________________________\n"
          ]
        }
      ]
    },
    {
      "cell_type": "code",
      "source": [
        "from keras.models import Sequential\n",
        "from keras.layers import LSTM, Dense, Flatten, Dropout"
      ],
      "metadata": {
        "id": "j-BD0k5nDK-j"
      },
      "execution_count": null,
      "outputs": []
    },
    {
      "cell_type": "code",
      "source": [
        "print(X_test.shape)\n",
        "print(y_test.shape)"
      ],
      "metadata": {
        "colab": {
          "base_uri": "https://localhost:8080/"
        },
        "id": "CkcC6u3MXx_S",
        "outputId": "30c7daed-f29e-4c1c-ac03-cf706672dd53"
      },
      "execution_count": null,
      "outputs": [
        {
          "output_type": "stream",
          "name": "stdout",
          "text": [
            "(557, 104, 7)\n",
            "(557, 5)\n"
          ]
        }
      ]
    },
    {
      "cell_type": "code",
      "source": [
        "history = model.fit(X_train, y_train, epochs = 80, validation_data = (X_test, y_test), batch_size = 64, verbose = 1)\n",
        "\n",
        "#history = model.fit(X_train, y_train, epochs = 80, validation_data = (X_test, y_test), batch_size = batch_size, verbose = 1)\n"
      ],
      "metadata": {
        "colab": {
          "base_uri": "https://localhost:8080/"
        },
        "id": "txzBzWRcX25D",
        "outputId": "9beca9c7-aaa9-4d15-8272-2d5a074c8df2"
      },
      "execution_count": null,
      "outputs": [
        {
          "output_type": "stream",
          "name": "stdout",
          "text": [
            "Epoch 1/80\n",
            "27/27 [==============================] - 24s 523ms/step - loss: 0.8197 - accuracy: 0.7983 - val_loss: 0.7803 - val_accuracy: 0.7702\n",
            "Epoch 2/80\n",
            "27/27 [==============================] - 11s 411ms/step - loss: 0.6004 - accuracy: 0.8181 - val_loss: 0.5574 - val_accuracy: 0.8187\n",
            "Epoch 3/80\n",
            "27/27 [==============================] - 6s 223ms/step - loss: 0.4401 - accuracy: 0.8552 - val_loss: 0.4580 - val_accuracy: 0.8402\n",
            "Epoch 4/80\n",
            "27/27 [==============================] - 6s 224ms/step - loss: 0.3803 - accuracy: 0.8743 - val_loss: 0.4084 - val_accuracy: 0.8582\n",
            "Epoch 5/80\n",
            "27/27 [==============================] - 6s 221ms/step - loss: 0.3109 - accuracy: 0.8965 - val_loss: 0.3453 - val_accuracy: 0.8995\n",
            "Epoch 6/80\n",
            "27/27 [==============================] - 6s 218ms/step - loss: 0.2672 - accuracy: 0.9114 - val_loss: 0.3472 - val_accuracy: 0.8833\n",
            "Epoch 7/80\n",
            "27/27 [==============================] - 6s 224ms/step - loss: 0.2224 - accuracy: 0.9246 - val_loss: 0.2779 - val_accuracy: 0.9138\n",
            "Epoch 8/80\n",
            "27/27 [==============================] - 6s 223ms/step - loss: 0.1941 - accuracy: 0.9431 - val_loss: 0.2576 - val_accuracy: 0.9246\n",
            "Epoch 9/80\n",
            "27/27 [==============================] - 6s 220ms/step - loss: 0.1801 - accuracy: 0.9396 - val_loss: 0.2716 - val_accuracy: 0.9210\n",
            "Epoch 10/80\n",
            "27/27 [==============================] - 6s 221ms/step - loss: 0.1970 - accuracy: 0.9336 - val_loss: 0.3025 - val_accuracy: 0.8869\n",
            "Epoch 11/80\n",
            "27/27 [==============================] - 6s 221ms/step - loss: 0.1647 - accuracy: 0.9437 - val_loss: 0.2666 - val_accuracy: 0.9138\n",
            "Epoch 12/80\n",
            "27/27 [==============================] - 6s 219ms/step - loss: 0.1318 - accuracy: 0.9629 - val_loss: 0.2344 - val_accuracy: 0.9282\n",
            "Epoch 13/80\n",
            "27/27 [==============================] - 6s 220ms/step - loss: 0.1188 - accuracy: 0.9647 - val_loss: 0.2427 - val_accuracy: 0.9282\n",
            "Epoch 14/80\n",
            "27/27 [==============================] - 6s 220ms/step - loss: 0.1096 - accuracy: 0.9677 - val_loss: 0.3120 - val_accuracy: 0.8815\n",
            "Epoch 15/80\n",
            "27/27 [==============================] - 6s 219ms/step - loss: 0.1121 - accuracy: 0.9641 - val_loss: 0.2415 - val_accuracy: 0.9300\n",
            "Epoch 16/80\n",
            "27/27 [==============================] - 6s 222ms/step - loss: 0.1262 - accuracy: 0.9581 - val_loss: 0.2381 - val_accuracy: 0.9282\n",
            "Epoch 17/80\n",
            "27/27 [==============================] - 6s 222ms/step - loss: 0.1033 - accuracy: 0.9659 - val_loss: 0.3026 - val_accuracy: 0.8959\n",
            "Epoch 18/80\n",
            "27/27 [==============================] - 6s 223ms/step - loss: 0.1607 - accuracy: 0.9443 - val_loss: 0.2480 - val_accuracy: 0.9138\n",
            "Epoch 19/80\n",
            "27/27 [==============================] - 8s 315ms/step - loss: 0.1341 - accuracy: 0.9563 - val_loss: 0.2447 - val_accuracy: 0.9318\n",
            "Epoch 20/80\n",
            "27/27 [==============================] - 6s 223ms/step - loss: 0.1284 - accuracy: 0.9569 - val_loss: 0.2288 - val_accuracy: 0.9174\n",
            "Epoch 21/80\n",
            "27/27 [==============================] - 6s 217ms/step - loss: 0.0874 - accuracy: 0.9695 - val_loss: 0.2178 - val_accuracy: 0.9390\n",
            "Epoch 22/80\n",
            "27/27 [==============================] - 6s 219ms/step - loss: 0.0845 - accuracy: 0.9737 - val_loss: 0.2271 - val_accuracy: 0.9318\n",
            "Epoch 23/80\n",
            "27/27 [==============================] - 6s 220ms/step - loss: 0.0936 - accuracy: 0.9677 - val_loss: 0.2227 - val_accuracy: 0.9408\n",
            "Epoch 24/80\n",
            "27/27 [==============================] - 6s 222ms/step - loss: 0.0749 - accuracy: 0.9761 - val_loss: 0.2338 - val_accuracy: 0.9300\n",
            "Epoch 25/80\n",
            "27/27 [==============================] - 6s 223ms/step - loss: 0.0717 - accuracy: 0.9755 - val_loss: 0.2330 - val_accuracy: 0.9318\n",
            "Epoch 26/80\n",
            "27/27 [==============================] - 6s 225ms/step - loss: 0.0905 - accuracy: 0.9653 - val_loss: 0.2131 - val_accuracy: 0.9390\n",
            "Epoch 27/80\n",
            "27/27 [==============================] - 6s 222ms/step - loss: 0.0569 - accuracy: 0.9820 - val_loss: 0.2315 - val_accuracy: 0.9336\n",
            "Epoch 28/80\n",
            "27/27 [==============================] - 6s 222ms/step - loss: 0.0622 - accuracy: 0.9791 - val_loss: 0.2530 - val_accuracy: 0.9174\n",
            "Epoch 29/80\n",
            "27/27 [==============================] - 6s 221ms/step - loss: 0.0588 - accuracy: 0.9832 - val_loss: 0.2127 - val_accuracy: 0.9443\n",
            "Epoch 30/80\n",
            "27/27 [==============================] - 6s 223ms/step - loss: 0.0407 - accuracy: 0.9850 - val_loss: 0.2345 - val_accuracy: 0.9461\n",
            "Epoch 31/80\n",
            "27/27 [==============================] - 6s 222ms/step - loss: 0.0364 - accuracy: 0.9916 - val_loss: 0.2658 - val_accuracy: 0.9336\n",
            "Epoch 32/80\n",
            "27/27 [==============================] - 6s 225ms/step - loss: 0.0512 - accuracy: 0.9838 - val_loss: 0.2530 - val_accuracy: 0.9354\n",
            "Epoch 33/80\n",
            "27/27 [==============================] - 6s 223ms/step - loss: 0.0498 - accuracy: 0.9832 - val_loss: 0.2442 - val_accuracy: 0.9408\n",
            "Epoch 34/80\n",
            "27/27 [==============================] - 6s 220ms/step - loss: 0.0434 - accuracy: 0.9874 - val_loss: 0.2235 - val_accuracy: 0.9443\n",
            "Epoch 35/80\n",
            "27/27 [==============================] - 6s 218ms/step - loss: 0.0361 - accuracy: 0.9910 - val_loss: 0.2779 - val_accuracy: 0.9300\n",
            "Epoch 36/80\n",
            "27/27 [==============================] - 6s 224ms/step - loss: 0.0333 - accuracy: 0.9874 - val_loss: 0.2487 - val_accuracy: 0.9336\n",
            "Epoch 37/80\n",
            "27/27 [==============================] - 6s 227ms/step - loss: 0.0281 - accuracy: 0.9892 - val_loss: 0.2528 - val_accuracy: 0.9372\n",
            "Epoch 38/80\n",
            "27/27 [==============================] - 6s 229ms/step - loss: 0.0445 - accuracy: 0.9880 - val_loss: 0.2405 - val_accuracy: 0.9372\n",
            "Epoch 39/80\n",
            "27/27 [==============================] - 6s 226ms/step - loss: 0.0511 - accuracy: 0.9820 - val_loss: 0.2959 - val_accuracy: 0.9174\n",
            "Epoch 40/80\n",
            "27/27 [==============================] - 6s 224ms/step - loss: 0.0468 - accuracy: 0.9868 - val_loss: 0.2361 - val_accuracy: 0.9425\n",
            "Epoch 41/80\n",
            "27/27 [==============================] - 6s 218ms/step - loss: 0.0476 - accuracy: 0.9820 - val_loss: 0.2787 - val_accuracy: 0.9354\n",
            "Epoch 42/80\n",
            "27/27 [==============================] - 6s 223ms/step - loss: 0.0438 - accuracy: 0.9832 - val_loss: 0.2673 - val_accuracy: 0.9282\n",
            "Epoch 43/80\n",
            "27/27 [==============================] - 6s 217ms/step - loss: 0.0307 - accuracy: 0.9904 - val_loss: 0.2617 - val_accuracy: 0.9408\n",
            "Epoch 44/80\n",
            "27/27 [==============================] - 6s 212ms/step - loss: 0.0173 - accuracy: 0.9970 - val_loss: 0.2484 - val_accuracy: 0.9425\n",
            "Epoch 45/80\n",
            "27/27 [==============================] - 6s 221ms/step - loss: 0.0259 - accuracy: 0.9910 - val_loss: 0.2495 - val_accuracy: 0.9408\n",
            "Epoch 46/80\n",
            "27/27 [==============================] - 6s 217ms/step - loss: 0.0345 - accuracy: 0.9916 - val_loss: 0.2557 - val_accuracy: 0.9354\n",
            "Epoch 47/80\n",
            "27/27 [==============================] - 6s 221ms/step - loss: 0.0342 - accuracy: 0.9916 - val_loss: 0.2745 - val_accuracy: 0.9318\n",
            "Epoch 48/80\n",
            "27/27 [==============================] - 6s 223ms/step - loss: 0.0398 - accuracy: 0.9868 - val_loss: 0.2740 - val_accuracy: 0.9228\n",
            "Epoch 49/80\n",
            "27/27 [==============================] - 6s 219ms/step - loss: 0.0285 - accuracy: 0.9922 - val_loss: 0.2527 - val_accuracy: 0.9408\n",
            "Epoch 50/80\n",
            "27/27 [==============================] - 6s 218ms/step - loss: 0.0272 - accuracy: 0.9916 - val_loss: 0.2690 - val_accuracy: 0.9372\n",
            "Epoch 51/80\n",
            "27/27 [==============================] - 6s 220ms/step - loss: 0.0300 - accuracy: 0.9934 - val_loss: 0.2495 - val_accuracy: 0.9443\n",
            "Epoch 52/80\n",
            "27/27 [==============================] - 6s 221ms/step - loss: 0.0104 - accuracy: 0.9982 - val_loss: 0.2566 - val_accuracy: 0.9372\n",
            "Epoch 53/80\n",
            "27/27 [==============================] - 6s 225ms/step - loss: 0.0091 - accuracy: 1.0000 - val_loss: 0.2817 - val_accuracy: 0.9425\n",
            "Epoch 54/80\n",
            "27/27 [==============================] - 6s 223ms/step - loss: 0.0091 - accuracy: 0.9988 - val_loss: 0.2641 - val_accuracy: 0.9461\n",
            "Epoch 55/80\n",
            "27/27 [==============================] - 6s 219ms/step - loss: 0.0067 - accuracy: 1.0000 - val_loss: 0.2936 - val_accuracy: 0.9390\n",
            "Epoch 56/80\n",
            "27/27 [==============================] - 6s 224ms/step - loss: 0.0073 - accuracy: 0.9988 - val_loss: 0.2720 - val_accuracy: 0.9461\n",
            "Epoch 57/80\n",
            "27/27 [==============================] - 6s 223ms/step - loss: 0.0061 - accuracy: 0.9994 - val_loss: 0.2719 - val_accuracy: 0.9390\n",
            "Epoch 58/80\n",
            "27/27 [==============================] - 6s 224ms/step - loss: 0.0040 - accuracy: 1.0000 - val_loss: 0.2751 - val_accuracy: 0.9461\n",
            "Epoch 59/80\n",
            "27/27 [==============================] - 6s 224ms/step - loss: 0.0055 - accuracy: 0.9994 - val_loss: 0.2942 - val_accuracy: 0.9408\n",
            "Epoch 60/80\n",
            "27/27 [==============================] - 6s 221ms/step - loss: 0.0046 - accuracy: 0.9994 - val_loss: 0.3096 - val_accuracy: 0.9461\n",
            "Epoch 61/80\n",
            "27/27 [==============================] - 6s 222ms/step - loss: 0.0033 - accuracy: 1.0000 - val_loss: 0.2847 - val_accuracy: 0.9461\n",
            "Epoch 62/80\n",
            "27/27 [==============================] - 6s 221ms/step - loss: 0.0025 - accuracy: 1.0000 - val_loss: 0.2877 - val_accuracy: 0.9461\n",
            "Epoch 63/80\n",
            "27/27 [==============================] - 6s 223ms/step - loss: 0.0024 - accuracy: 1.0000 - val_loss: 0.2945 - val_accuracy: 0.9443\n",
            "Epoch 64/80\n",
            "27/27 [==============================] - 6s 218ms/step - loss: 0.0026 - accuracy: 1.0000 - val_loss: 0.2935 - val_accuracy: 0.9461\n",
            "Epoch 65/80\n",
            "27/27 [==============================] - 6s 219ms/step - loss: 0.0021 - accuracy: 1.0000 - val_loss: 0.3060 - val_accuracy: 0.9479\n",
            "Epoch 66/80\n",
            "27/27 [==============================] - 6s 222ms/step - loss: 0.0027 - accuracy: 0.9994 - val_loss: 0.3201 - val_accuracy: 0.9425\n",
            "Epoch 67/80\n",
            "27/27 [==============================] - 6s 221ms/step - loss: 0.0024 - accuracy: 1.0000 - val_loss: 0.3001 - val_accuracy: 0.9497\n",
            "Epoch 68/80\n",
            "27/27 [==============================] - 6s 225ms/step - loss: 0.0018 - accuracy: 1.0000 - val_loss: 0.3028 - val_accuracy: 0.9497\n",
            "Epoch 69/80\n",
            "27/27 [==============================] - 6s 218ms/step - loss: 0.0016 - accuracy: 1.0000 - val_loss: 0.3069 - val_accuracy: 0.9479\n",
            "Epoch 70/80\n",
            "27/27 [==============================] - 6s 227ms/step - loss: 0.0017 - accuracy: 1.0000 - val_loss: 0.3087 - val_accuracy: 0.9479\n",
            "Epoch 71/80\n",
            "27/27 [==============================] - 6s 225ms/step - loss: 0.0017 - accuracy: 1.0000 - val_loss: 0.3098 - val_accuracy: 0.9425\n",
            "Epoch 72/80\n",
            "27/27 [==============================] - 6s 226ms/step - loss: 0.0162 - accuracy: 0.9934 - val_loss: 0.3124 - val_accuracy: 0.9282\n",
            "Epoch 73/80\n",
            "27/27 [==============================] - 6s 220ms/step - loss: 0.0361 - accuracy: 0.9862 - val_loss: 0.2955 - val_accuracy: 0.9408\n",
            "Epoch 74/80\n",
            "27/27 [==============================] - 6s 228ms/step - loss: 0.0222 - accuracy: 0.9934 - val_loss: 0.2815 - val_accuracy: 0.9425\n",
            "Epoch 75/80\n",
            "27/27 [==============================] - 6s 228ms/step - loss: 0.0176 - accuracy: 0.9940 - val_loss: 0.3036 - val_accuracy: 0.9336\n",
            "Epoch 76/80\n",
            "27/27 [==============================] - 6s 230ms/step - loss: 0.0531 - accuracy: 0.9856 - val_loss: 0.3372 - val_accuracy: 0.9246\n",
            "Epoch 77/80\n",
            "27/27 [==============================] - 6s 229ms/step - loss: 0.0804 - accuracy: 0.9677 - val_loss: 0.2842 - val_accuracy: 0.9210\n",
            "Epoch 78/80\n",
            "27/27 [==============================] - 6s 214ms/step - loss: 0.1983 - accuracy: 0.9354 - val_loss: 0.2751 - val_accuracy: 0.9228\n",
            "Epoch 79/80\n",
            "27/27 [==============================] - 6s 217ms/step - loss: 0.0603 - accuracy: 0.9779 - val_loss: 0.2403 - val_accuracy: 0.9372\n",
            "Epoch 80/80\n",
            "27/27 [==============================] - 6s 228ms/step - loss: 0.0356 - accuracy: 0.9874 - val_loss: 0.2515 - val_accuracy: 0.9443\n"
          ]
        }
      ]
    },
    {
      "cell_type": "code",
      "source": [
        "plt.plot(np.array(history.history['loss']), \"r--\", label = \"Train loss\")\n",
        "# plt.plot(np.array(history.history['accuracy']), \"g--\", label = \"Train accuracy\")\n",
        "plt.plot(np.array(history.history['val_loss']), \"r-\", label = \"Validation loss\")\n",
        "# plt.plot(np.array(history.history['val_accuracy']), \"g-\", label = \"Validation accuracy\")\n",
        "plt.title(\"Training session's progress over iterations\")\n",
        "plt.legend(loc='lower left')\n",
        "plt.ylabel('Training Progress (Loss/Accuracy)')\n",
        "plt.xlabel('Training Epoch')\n",
        "plt.ylim(0) \n",
        "plt.show()"
      ],
      "metadata": {
        "colab": {
          "base_uri": "https://localhost:8080/",
          "height": 295
        },
        "id": "-0rh5jqZX5NA",
        "outputId": "7aba4829-9860-41d9-e03a-976d581c6e4c"
      },
      "execution_count": null,
      "outputs": [
        {
          "output_type": "display_data",
          "data": {
            "text/plain": [
              "<Figure size 432x288 with 1 Axes>"
            ],
            "image/png": "[encoded data removed]"
          },
          "metadata": {
            "needs_background": "light"
          }
        }
      ]
    },
    {
      "cell_type": "code",
      "source": [
        "import sklearn.metrics as metrics\n",
        "\n",
        "predictions = model.predict(X_test)\n",
        "class_labels = [ 'STRAIGHT', 'BUMP', 'LEFT',  'RIGHT','STOP']\n",
        "max_test = np.argmax(y_test, axis=1)\n",
        "max_predictions = np.argmax(predictions, axis=1)\n",
        "confusion_matrix = metrics.confusion_matrix(max_test, max_predictions)\n",
        "\n",
        "sns.heatmap(confusion_matrix, xticklabels = class_labels, yticklabels = class_labels, annot = True, linewidths = 0.1, fmt='d', cmap = 'YlGnBu')\n",
        "plt.title(\"Confusion matrix\", fontsize = 15)\n",
        "plt.ylabel('True label')\n",
        "plt.xlabel('Predicted label')\n",
        "plt.show()"
      ],
      "metadata": {
        "colab": {
          "base_uri": "https://localhost:8080/",
          "height": 297
        },
        "id": "QSXi6MJfX_sl",
        "outputId": "5d4fe984-83af-4abd-9931-8327c262c416"
      },
      "execution_count": null,
      "outputs": [
        {
          "output_type": "display_data",
          "data": {
            "text/plain": [
              "<Figure size 432x288 with 2 Axes>"
            ],
            "image/png": "[encoded data removed]"
          },
          "metadata": {
            "needs_background": "light"
          }
        }
      ]
    },
    {
      "cell_type": "code",
      "source": [
        "loss, accuracy = model.evaluate(X_test, y_test, batch_size = batch_size, verbose = 1)\n",
        "print(\"Test Accuracy :\", accuracy)\n",
        "print(\"Test Loss :\", loss)"
      ],
      "metadata": {
        "colab": {
          "base_uri": "https://localhost:8080/"
        },
        "id": "dWJqKkMPYNW8",
        "outputId": "5e2df4bf-d4ff-46a1-9800-0c1d79b5dddc"
      },
      "execution_count": null,
      "outputs": [
        {
          "output_type": "stream",
          "name": "stdout",
          "text": [
            "9/9 [==============================] - 1s 58ms/step - loss: 0.2515 - accuracy: 0.9443\n",
            "Test Accuracy : 0.944344699382782\n",
            "Test Loss : 0.25148075819015503\n"
          ]
        }
      ]
    },
    {
      "cell_type": "code",
      "source": [
        "\n",
        "\n",
        "import sklearn.metrics as metrics\n",
        "\n",
        "predictions = model.predict(X_test)\n",
        "class_labels = ['BUMP', 'LEFT',  'RIGHT','STOP', 'STRAIGHT']\n",
        "max_test = np.argmax(y_test, axis=1)\n",
        "max_predictions = np.argmax(predictions, axis=1)\n",
        "confusion_matrix = metrics.confusion_matrix(max_test, max_predictions)\n",
        "cmn = confusion_matrix.astype('float') / confusion_matrix.sum(axis=1)[:, np.newaxis]\n",
        "sns.heatmap(cmn, xticklabels = class_labels, yticklabels = class_labels, annot = True, linewidths = 0.1, fmt='2f', cmap = 'YlGnBu')\n",
        "plt.title(\"Confusion matrix\", fontsize = 15)\n",
        "plt.ylabel('True label')\n",
        "plt.xlabel('Predicted label')\n",
        "plt.show()"
      ],
      "metadata": {
        "colab": {
          "base_uri": "https://localhost:8080/",
          "height": 297
        },
        "id": "VSSnqn6cYPBr",
        "outputId": "5511d847-92df-49c3-9480-762cf616c1d9"
      },
      "execution_count": null,
      "outputs": [
        {
          "output_type": "display_data",
          "data": {
            "text/plain": [
              "<Figure size 432x288 with 2 Axes>"
            ],
            "image/png": "[encoded data removed]"
          },
          "metadata": {
            "needs_background": "light"
          }
        }
      ]
    },
    {
      "cell_type": "code",
      "source": [
        "\n"
      ],
      "metadata": {
        "id": "FINhUsVqYQOA"
      },
      "execution_count": null,
      "outputs": []
    }
  ]
}
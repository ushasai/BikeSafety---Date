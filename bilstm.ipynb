{
  "nbformat": 4,
  "nbformat_minor": 0,
  "metadata": {
    "colab": {
      "provenance": []
    },
    "kernelspec": {
      "name": "python3",
      "display_name": "Python 3"
    },
    "language_info": {
      "name": "python"
    }
  },
  "cells": [
    {
      "cell_type": "code",
      "execution_count": null,
      "metadata": {
        "id": "83guxcl3XSJK"
      },
      "outputs": [],
      "source": [
        "import tensorflow as tf\n",
        "from tensorflow import keras\n",
        "import numpy as np \n",
        "import pandas as pd\n",
        "import matplotlib.pyplot as plt\n",
        "import seaborn as sns\n",
        "import warnings\n",
        "from scipy import stats\n",
        "from keras.models import Sequential\n",
        "from keras.layers import LSTM, Dense, Flatten, Dropout\n",
        "warnings.filterwarnings('ignore')\n",
        "import numpy as np\n",
        "from keras.preprocessing import sequence\n",
        "from keras.models import Sequential\n",
        "from keras.layers import Dense, Dropout, Embedding, LSTM, Bidirectional\n"
      ]
    },
    {
      "cell_type": "code",
      "source": [
        "test =pd.read_csv('/content/data_test_24-29.csv')\n",
        "train = pd.read_csv('/content/data_train_24-29 (1).csv')\n",
        "\n"
      ],
      "metadata": {
        "id": "QvA1top7XTzU"
      },
      "execution_count": null,
      "outputs": []
    },
    {
      "cell_type": "code",
      "source": [
        "train_data = train.drop(['TIME IN GMT','TIME IN IST','Lat ','Long', 'Time','T','Date'], axis=1)\n",
        "test_data = test.drop(['TIME IN GMT','TIME IN IST','Lat ','Long', 'Time','T','Date'], axis=1)\n"
      ],
      "metadata": {
        "id": "SVnX3K9lXVgL"
      },
      "execution_count": null,
      "outputs": []
    },
    {
      "cell_type": "code",
      "source": [
        "train_data.dropna(axis=0, how='any', inplace=True)\n"
      ],
      "metadata": {
        "id": "GItPS7pdXXle"
      },
      "execution_count": null,
      "outputs": []
    },
    {
      "cell_type": "code",
      "source": [
        "test_data.dropna(axis=0, how='any', inplace=True)\n",
        "test_data.shape"
      ],
      "metadata": {
        "colab": {
          "base_uri": "https://localhost:8080/"
        },
        "id": "Cav1QDS-XZdk",
        "outputId": "39f88846-e7b3-4d9c-837a-3e6baac06648"
      },
      "execution_count": null,
      "outputs": [
        {
          "output_type": "execute_result",
          "data": {
            "text/plain": [
              "(44574, 8)"
            ]
          },
          "metadata": {},
          "execution_count": 6
        }
      ]
    },
    {
      "cell_type": "code",
      "source": [
        "n_time_steps = 104\n",
        "n_features = 7 \n",
        "step = 80\n",
        "n_classes = 5 \n",
        "n_epochs = 50       \n",
        "batch_size = 64   \n",
        "learning_rate = 0.0001\n",
        "l2_loss = 0.00015\n",
        "\n",
        "segments = []\n",
        "labels = []\n"
      ],
      "metadata": {
        "id": "vqfDVXn4XoID"
      },
      "execution_count": null,
      "outputs": []
    },
    {
      "cell_type": "code",
      "source": [
        "for i in range(0,  train_data.shape[0]- n_time_steps, step):  \n",
        "\n",
        "    Ax_tr = train_data['Ax'].values[i: i + n_time_steps]\n",
        "\n",
        "    Ay_tr = train_data['Ay'].values[i: i + n_time_steps]\n",
        "\n",
        "    Az_tr = train_data['Az'].values[i: i + n_time_steps]\n",
        "\n",
        "    Gx_tr = train_data['Gx'].values[i: i + n_time_steps]\n",
        "\n",
        "    Gy_tr = train_data['Gy'].values[i: i + n_time_steps]\n",
        "\n",
        "    Gz_tr = train_data['Gz'].values[i: i + n_time_steps]\n",
        "\n",
        "    Speed_tr = train_data['Speed'].values[i: i + n_time_steps]\n",
        "\n",
        "\n",
        "    label_tr = stats.mode(train_data['Label'][i: i + n_time_steps])[0][0]\n",
        "\n",
        "    segments.append([Ax_tr, Ay_tr, Az_tr, Gx_tr,Gy_tr,Gz_tr,Speed_tr])\n",
        "\n",
        "    labels.append(label_tr)"
      ],
      "metadata": {
        "id": "J8n3ONXxXpdt"
      },
      "execution_count": null,
      "outputs": []
    },
    {
      "cell_type": "code",
      "source": [
        "X_train = np.asarray(segments, dtype= np.float32).reshape(-1, n_time_steps, n_features)\n",
        "\n",
        "y_train = np.asarray(pd.get_dummies(labels), dtype = np.float32)\n",
        "\n",
        "X_train.shape"
      ],
      "metadata": {
        "colab": {
          "base_uri": "https://localhost:8080/"
        },
        "id": "cMJjXkmLXqor",
        "outputId": "8fa0ec96-2875-4385-e60d-9127a6bfb21a"
      },
      "execution_count": null,
      "outputs": [
        {
          "output_type": "execute_result",
          "data": {
            "text/plain": [
              "(2228, 104, 7)"
            ]
          },
          "metadata": {},
          "execution_count": 22
        }
      ]
    },
    {
      "cell_type": "code",
      "source": [
        "reshaped_segments = np.asarray(segments, dtype= np.float32).reshape(-1, n_time_steps, n_features)"
      ],
      "metadata": {
        "id": "6u5ASnWtXsnX"
      },
      "execution_count": null,
      "outputs": []
    },
    {
      "cell_type": "code",
      "source": [
        "labels = np.asarray(pd.get_dummies(labels), dtype = np.float32)\n",
        "\n",
        "reshaped_segments.shape"
      ],
      "metadata": {
        "colab": {
          "base_uri": "https://localhost:8080/"
        },
        "id": "ZF8PCciQXuFK",
        "outputId": "6d467650-365c-4a4d-f466-716d45d692cb"
      },
      "execution_count": null,
      "outputs": [
        {
          "output_type": "execute_result",
          "data": {
            "text/plain": [
              "(2228, 104, 7)"
            ]
          },
          "metadata": {},
          "execution_count": 24
        }
      ]
    },
    {
      "cell_type": "code",
      "source": [
        "from sklearn.model_selection import train_test_split\n",
        "X_train, X_test, y_train, y_test = train_test_split(reshaped_segments, labels, test_size = 0.25)\n"
      ],
      "metadata": {
        "id": "3O4C1lVoXvQ-"
      },
      "execution_count": null,
      "outputs": []
    },
    {
      "cell_type": "code",
      "source": [],
      "metadata": {
        "id": "dG9ysej4vmm6"
      },
      "execution_count": null,
      "outputs": []
    },
    {
      "cell_type": "code",
      "source": [
        "from keras.models import Sequential\n",
        "from keras.layers import LSTM, Dense, Flatten, Dropout\n",
        "from keras.layers import TimeDistributed\n",
        "\n",
        "import os\n",
        "from tensorflow.keras import Input\n",
        "from tensorflow.keras.models import load_model, Model\n",
        "\n",
        "from tensorflow.keras import backend as K\n",
        "from tensorflow.keras.layers import Dense, Lambda, Dot, Activation, Concatenate, Layer\n",
        "# model = Sequential()\n",
        "# # RNN layer\n",
        "# model.add(LSTM(units = 100, input_shape = (X_train.shape[1], X_train.shape[2])))\n",
        "\n",
        "# # Dropout layer\n",
        "# model.add(Dropout(0.4))\n",
        " \n",
        "# # Dense layer with ReLu\n",
        "# model.add(Dense(units = 32, activation='tanh'))\n",
        "\n",
        "# # Softmax layer\n",
        "# model.add(Dense(y_train.shape[1], activation = 'softplus'))\n",
        "\n",
        "# # Compile model\n",
        "# model.compile(loss='categorical_crossentropy', optimizer='adam', metrics=['accuracy'])\n",
        "\n",
        "# model.summary()\n",
        "from keras.models import Sequential\n",
        "from keras.layers import LSTM, Dense, Flatten, Dropout\n",
        "from keras.models import Sequential\n",
        "from keras.layers import LSTM\n",
        "from keras.layers import Dense\n",
        "from keras.layers import TimeDistributed\n",
        "from keras.layers import Bidirectional\n",
        "\n",
        "model = Sequential()\n",
        "x = model.add(Bidirectional(LSTM(100, return_sequences=False), input_shape=(X_train.shape[1], X_train.shape[2])))\n",
        "# model.add(Bidirectional(LSTM(100)))(x)\n",
        "model.add(Dense(units = 64, activation='tanh'))\n",
        "model.add(Dense(y_train.shape[1], activation = 'softplus'))\n",
        "model.compile(loss='categorical_crossentropy', optimizer='adam', metrics=['accuracy'])\n",
        "model.summary()"
      ],
      "metadata": {
        "colab": {
          "base_uri": "https://localhost:8080/"
        },
        "id": "sjrNn133XwbN",
        "outputId": "6ad465db-d6fa-41fa-acb8-de49d0369373"
      },
      "execution_count": null,
      "outputs": [
        {
          "output_type": "stream",
          "name": "stdout",
          "text": [
            "Model: \"sequential_6\"\n",
            "_________________________________________________________________\n",
            " Layer (type)                Output Shape              Param #   \n",
            "=================================================================\n",
            " bidirectional_9 (Bidirectio  (None, 200)              86400     \n",
            " nal)                                                            \n",
            "                                                                 \n",
            " dense_6 (Dense)             (None, 64)                12864     \n",
            "                                                                 \n",
            " dense_7 (Dense)             (None, 5)                 325       \n",
            "                                                                 \n",
            "=================================================================\n",
            "Total params: 99,589\n",
            "Trainable params: 99,589\n",
            "Non-trainable params: 0\n",
            "_________________________________________________________________\n"
          ]
        }
      ]
    },
    {
      "cell_type": "code",
      "source": [
        "from keras.models import Sequential\n",
        "from keras.layers import LSTM, Dense, Flatten, Dropout"
      ],
      "metadata": {
        "id": "j-BD0k5nDK-j"
      },
      "execution_count": null,
      "outputs": []
    },
    {
      "cell_type": "code",
      "source": [
        "print(X_test.shape)\n",
        "print(y_test.shape)"
      ],
      "metadata": {
        "colab": {
          "base_uri": "https://localhost:8080/"
        },
        "id": "CkcC6u3MXx_S",
        "outputId": "7c675c88-fcf6-4b7b-94ea-63ec147024e7"
      },
      "execution_count": null,
      "outputs": [
        {
          "output_type": "stream",
          "name": "stdout",
          "text": [
            "(557, 104, 7)\n",
            "(557, 5)\n"
          ]
        }
      ]
    },
    {
      "cell_type": "code",
      "source": [
        "history = model.fit(X_train, y_train, epochs = n_epochs, validation_data = (X_test, y_test), batch_size = batch_size, verbose = 1)\n",
        "\n",
        "#history = model.fit(X_train, y_train, epochs = n_epochs, validation_data = (X_test, y_test), batch_size = batch_size, verbose = 1)\n"
      ],
      "metadata": {
        "colab": {
          "base_uri": "https://localhost:8080/"
        },
        "id": "txzBzWRcX25D",
        "outputId": "079626f4-c6be-4c34-bd8b-b41a9544815d"
      },
      "execution_count": null,
      "outputs": [
        {
          "output_type": "stream",
          "name": "stdout",
          "text": [
            "Epoch 1/50\n",
            "27/27 [==============================] - 10s 231ms/step - loss: 0.8444 - accuracy: 0.7600 - val_loss: 0.6431 - val_accuracy: 0.8294\n",
            "Epoch 2/50\n",
            "27/27 [==============================] - 5s 184ms/step - loss: 0.5926 - accuracy: 0.8300 - val_loss: 0.5196 - val_accuracy: 0.8294\n",
            "Epoch 3/50\n",
            "27/27 [==============================] - 5s 183ms/step - loss: 0.4592 - accuracy: 0.8462 - val_loss: 0.4030 - val_accuracy: 0.8689\n",
            "Epoch 4/50\n",
            "27/27 [==============================] - 5s 185ms/step - loss: 0.3587 - accuracy: 0.8695 - val_loss: 0.2988 - val_accuracy: 0.8869\n",
            "Epoch 5/50\n",
            "27/27 [==============================] - 5s 184ms/step - loss: 0.2824 - accuracy: 0.8965 - val_loss: 0.2649 - val_accuracy: 0.9013\n",
            "Epoch 6/50\n",
            "27/27 [==============================] - 5s 185ms/step - loss: 0.2538 - accuracy: 0.9102 - val_loss: 0.2365 - val_accuracy: 0.9210\n",
            "Epoch 7/50\n",
            "27/27 [==============================] - 5s 183ms/step - loss: 0.2426 - accuracy: 0.9168 - val_loss: 0.2737 - val_accuracy: 0.8995\n",
            "Epoch 8/50\n",
            "27/27 [==============================] - 5s 185ms/step - loss: 0.2326 - accuracy: 0.9204 - val_loss: 0.2026 - val_accuracy: 0.9390\n",
            "Epoch 9/50\n",
            "27/27 [==============================] - 5s 183ms/step - loss: 0.1954 - accuracy: 0.9348 - val_loss: 0.2090 - val_accuracy: 0.9264\n",
            "Epoch 10/50\n",
            "27/27 [==============================] - 5s 185ms/step - loss: 0.1841 - accuracy: 0.9366 - val_loss: 0.1897 - val_accuracy: 0.9461\n",
            "Epoch 11/50\n",
            "27/27 [==============================] - 5s 185ms/step - loss: 0.1631 - accuracy: 0.9485 - val_loss: 0.1785 - val_accuracy: 0.9282\n",
            "Epoch 12/50\n",
            "27/27 [==============================] - 5s 183ms/step - loss: 0.1703 - accuracy: 0.9366 - val_loss: 0.1979 - val_accuracy: 0.9336\n",
            "Epoch 13/50\n",
            "27/27 [==============================] - 5s 184ms/step - loss: 0.1794 - accuracy: 0.9342 - val_loss: 0.2018 - val_accuracy: 0.9300\n",
            "Epoch 14/50\n",
            "27/27 [==============================] - 5s 185ms/step - loss: 0.1580 - accuracy: 0.9449 - val_loss: 0.2817 - val_accuracy: 0.8941\n",
            "Epoch 15/50\n",
            "27/27 [==============================] - 6s 243ms/step - loss: 0.1500 - accuracy: 0.9485 - val_loss: 0.1782 - val_accuracy: 0.9354\n",
            "Epoch 16/50\n",
            "27/27 [==============================] - 5s 185ms/step - loss: 0.1280 - accuracy: 0.9569 - val_loss: 0.1758 - val_accuracy: 0.9372\n",
            "Epoch 17/50\n",
            "27/27 [==============================] - 5s 183ms/step - loss: 0.1320 - accuracy: 0.9557 - val_loss: 0.1870 - val_accuracy: 0.9425\n",
            "Epoch 18/50\n",
            "27/27 [==============================] - 5s 184ms/step - loss: 0.1272 - accuracy: 0.9575 - val_loss: 0.1442 - val_accuracy: 0.9461\n",
            "Epoch 19/50\n",
            "27/27 [==============================] - 5s 184ms/step - loss: 0.1082 - accuracy: 0.9641 - val_loss: 0.1658 - val_accuracy: 0.9479\n",
            "Epoch 20/50\n",
            "27/27 [==============================] - 5s 186ms/step - loss: 0.1007 - accuracy: 0.9677 - val_loss: 0.2269 - val_accuracy: 0.9102\n",
            "Epoch 21/50\n",
            "27/27 [==============================] - 5s 184ms/step - loss: 0.1167 - accuracy: 0.9557 - val_loss: 0.1534 - val_accuracy: 0.9497\n",
            "Epoch 22/50\n",
            "27/27 [==============================] - 5s 185ms/step - loss: 0.0840 - accuracy: 0.9701 - val_loss: 0.1721 - val_accuracy: 0.9408\n",
            "Epoch 23/50\n",
            "27/27 [==============================] - 5s 184ms/step - loss: 0.0845 - accuracy: 0.9755 - val_loss: 0.1312 - val_accuracy: 0.9515\n",
            "Epoch 24/50\n",
            "27/27 [==============================] - 5s 187ms/step - loss: 0.0737 - accuracy: 0.9755 - val_loss: 0.1262 - val_accuracy: 0.9515\n",
            "Epoch 25/50\n",
            "27/27 [==============================] - 5s 183ms/step - loss: 0.0823 - accuracy: 0.9707 - val_loss: 0.1947 - val_accuracy: 0.9282\n",
            "Epoch 26/50\n",
            "27/27 [==============================] - 5s 186ms/step - loss: 0.0779 - accuracy: 0.9731 - val_loss: 0.1529 - val_accuracy: 0.9443\n",
            "Epoch 27/50\n",
            "27/27 [==============================] - 5s 185ms/step - loss: 0.0783 - accuracy: 0.9725 - val_loss: 0.1271 - val_accuracy: 0.9533\n",
            "Epoch 28/50\n",
            "27/27 [==============================] - 5s 185ms/step - loss: 0.0637 - accuracy: 0.9808 - val_loss: 0.1212 - val_accuracy: 0.9569\n",
            "Epoch 29/50\n",
            "27/27 [==============================] - 5s 183ms/step - loss: 0.0708 - accuracy: 0.9749 - val_loss: 0.1514 - val_accuracy: 0.9605\n",
            "Epoch 30/50\n",
            "27/27 [==============================] - 5s 185ms/step - loss: 0.0630 - accuracy: 0.9749 - val_loss: 0.1245 - val_accuracy: 0.9641\n",
            "Epoch 31/50\n",
            "27/27 [==============================] - 5s 186ms/step - loss: 0.0477 - accuracy: 0.9808 - val_loss: 0.1307 - val_accuracy: 0.9569\n",
            "Epoch 32/50\n",
            "27/27 [==============================] - 5s 185ms/step - loss: 0.0417 - accuracy: 0.9874 - val_loss: 0.1384 - val_accuracy: 0.9551\n",
            "Epoch 33/50\n",
            "27/27 [==============================] - 5s 186ms/step - loss: 0.0353 - accuracy: 0.9910 - val_loss: 0.1425 - val_accuracy: 0.9587\n",
            "Epoch 34/50\n",
            "27/27 [==============================] - 5s 185ms/step - loss: 0.0487 - accuracy: 0.9838 - val_loss: 0.1724 - val_accuracy: 0.9390\n",
            "Epoch 35/50\n",
            "27/27 [==============================] - 5s 184ms/step - loss: 0.0507 - accuracy: 0.9820 - val_loss: 0.1647 - val_accuracy: 0.9497\n",
            "Epoch 36/50\n",
            "27/27 [==============================] - 5s 185ms/step - loss: 0.0405 - accuracy: 0.9874 - val_loss: 0.1796 - val_accuracy: 0.9425\n",
            "Epoch 37/50\n",
            "27/27 [==============================] - 5s 184ms/step - loss: 0.0336 - accuracy: 0.9898 - val_loss: 0.1343 - val_accuracy: 0.9623\n",
            "Epoch 38/50\n",
            "27/27 [==============================] - 5s 186ms/step - loss: 0.0512 - accuracy: 0.9826 - val_loss: 0.1417 - val_accuracy: 0.9497\n",
            "Epoch 39/50\n",
            "27/27 [==============================] - 5s 186ms/step - loss: 0.0374 - accuracy: 0.9862 - val_loss: 0.1590 - val_accuracy: 0.9515\n",
            "Epoch 40/50\n",
            "27/27 [==============================] - 5s 185ms/step - loss: 0.0300 - accuracy: 0.9904 - val_loss: 0.1414 - val_accuracy: 0.9623\n",
            "Epoch 41/50\n",
            "27/27 [==============================] - 5s 184ms/step - loss: 0.0278 - accuracy: 0.9916 - val_loss: 0.1889 - val_accuracy: 0.9372\n",
            "Epoch 42/50\n",
            "27/27 [==============================] - 5s 184ms/step - loss: 0.0299 - accuracy: 0.9916 - val_loss: 0.1617 - val_accuracy: 0.9587\n",
            "Epoch 43/50\n",
            "27/27 [==============================] - 5s 185ms/step - loss: 0.0173 - accuracy: 0.9946 - val_loss: 0.1396 - val_accuracy: 0.9605\n",
            "Epoch 44/50\n",
            "27/27 [==============================] - 5s 184ms/step - loss: 0.0111 - accuracy: 0.9982 - val_loss: 0.1400 - val_accuracy: 0.9641\n",
            "Epoch 45/50\n",
            "27/27 [==============================] - 5s 185ms/step - loss: 0.0094 - accuracy: 0.9994 - val_loss: 0.1447 - val_accuracy: 0.9623\n",
            "Epoch 46/50\n",
            "27/27 [==============================] - 5s 185ms/step - loss: 0.0090 - accuracy: 0.9988 - val_loss: 0.1504 - val_accuracy: 0.9605\n",
            "Epoch 47/50\n",
            "27/27 [==============================] - 5s 184ms/step - loss: 0.0072 - accuracy: 0.9994 - val_loss: 0.1536 - val_accuracy: 0.9623\n",
            "Epoch 48/50\n",
            "27/27 [==============================] - 5s 186ms/step - loss: 0.0175 - accuracy: 0.9958 - val_loss: 0.1671 - val_accuracy: 0.9497\n",
            "Epoch 49/50\n",
            "27/27 [==============================] - 5s 185ms/step - loss: 0.0182 - accuracy: 0.9958 - val_loss: 0.1760 - val_accuracy: 0.9569\n",
            "Epoch 50/50\n",
            "27/27 [==============================] - 5s 187ms/step - loss: 0.0376 - accuracy: 0.9874 - val_loss: 0.1993 - val_accuracy: 0.9461\n"
          ]
        }
      ]
    },
    {
      "cell_type": "code",
      "source": [
        "plt.plot(np.array(history.history['loss']), \"r--\", label = \"Train loss\")\n",
        "# plt.plot(np.array(history.history['accuracy']), \"g--\", label = \"Train accuracy\")\n",
        "plt.plot(np.array(history.history['val_loss']), \"r-\", label = \"Validation loss\")\n",
        "# plt.plot(np.array(history.history['val_accuracy']), \"g-\", label = \"Validation accuracy\")\n",
        "plt.title(\"Training session's progress over iterations\")\n",
        "plt.legend(loc='lower left')\n",
        "plt.ylabel('Training Progress (Loss/Accuracy)')\n",
        "plt.xlabel('Training Epoch')\n",
        "plt.ylim(0) \n",
        "plt.show()"
      ],
      "metadata": {
        "colab": {
          "base_uri": "https://localhost:8080/",
          "height": 295
        },
        "id": "-0rh5jqZX5NA",
        "outputId": "9e235619-f112-4e5f-af06-9a7c04a56b36"
      },
      "execution_count": null,
      "outputs": [
        {
          "output_type": "display_data",
          "data": {
            "text/plain": [
              "<Figure size 432x288 with 1 Axes>"
            ],
            "image/png": "[encoded data removed]"
          },
          "metadata": {
            "needs_background": "light"
          }
        }
      ]
    },
    {
      "cell_type": "code",
      "source": [
        "import sklearn.metrics as metrics\n",
        "\n",
        "predictions = model.predict(X_test)\n",
        "class_labels = [ 'STRAIGHT', 'BUMP', 'LEFT',  'RIGHT','STOP']\n",
        "max_test = np.argmax(y_test, axis=1)\n",
        "max_predictions = np.argmax(predictions, axis=1)\n",
        "confusion_matrix = metrics.confusion_matrix(max_test, max_predictions)\n",
        "\n",
        "sns.heatmap(confusion_matrix, xticklabels = class_labels, yticklabels = class_labels, annot = True, linewidths = 0.1, fmt='d', cmap = 'YlGnBu')\n",
        "plt.title(\"Confusion matrix\", fontsize = 15)\n",
        "plt.ylabel('True label')\n",
        "plt.xlabel('Predicted label')\n",
        "plt.show()"
      ],
      "metadata": {
        "colab": {
          "base_uri": "https://localhost:8080/",
          "height": 297
        },
        "id": "QSXi6MJfX_sl",
        "outputId": "024ba457-1e94-4500-8cde-ad96ad2f3c03"
      },
      "execution_count": null,
      "outputs": [
        {
          "output_type": "display_data",
          "data": {
            "text/plain": [
              "<Figure size 432x288 with 2 Axes>"
            ],
            "image/png": "[encoded data removed]"
          },
          "metadata": {
            "needs_background": "light"
          }
        }
      ]
    },
    {
      "cell_type": "code",
      "source": [
        "loss, accuracy = model.evaluate(X_test, y_test, batch_size = batch_size, verbose = 1)\n",
        "print(\"Test Accuracy :\", accuracy)\n",
        "print(\"Test Loss :\", loss)"
      ],
      "metadata": {
        "colab": {
          "base_uri": "https://localhost:8080/"
        },
        "id": "dWJqKkMPYNW8",
        "outputId": "9587601a-ab8b-4c58-a4b9-84da56285a81"
      },
      "execution_count": null,
      "outputs": [
        {
          "output_type": "stream",
          "name": "stdout",
          "text": [
            "9/9 [==============================] - 0s 48ms/step - loss: 0.1993 - accuracy: 0.9461\n",
            "Test Accuracy : 0.9461400508880615\n",
            "Test Loss : 0.19927477836608887\n"
          ]
        }
      ]
    },
    {
      "cell_type": "code",
      "source": [
        "\n",
        "\n",
        "import sklearn.metrics as metrics\n",
        "\n",
        "predictions = model.predict(X_test)\n",
        "class_labels = ['BUMP', 'LEFT',  'RIGHT','STOP', 'STRAIGHT']\n",
        "max_test = np.argmax(y_test, axis=1)\n",
        "max_predictions = np.argmax(predictions, axis=1)\n",
        "confusion_matrix = metrics.confusion_matrix(max_test, max_predictions)\n",
        "cmn = confusion_matrix.astype('float') / confusion_matrix.sum(axis=1)[:, np.newaxis]\n",
        "sns.heatmap(cmn, xticklabels = class_labels, yticklabels = class_labels, annot = True, linewidths = 0.1, fmt='2f', cmap = 'YlGnBu')\n",
        "plt.title(\"Confusion matrix\", fontsize = 15)\n",
        "plt.ylabel('True label')\n",
        "plt.xlabel('Predicted label')\n",
        "plt.show()"
      ],
      "metadata": {
        "colab": {
          "base_uri": "https://localhost:8080/",
          "height": 297
        },
        "id": "VSSnqn6cYPBr",
        "outputId": "c93bf909-96ad-47b9-d630-c8dbc974ee97"
      },
      "execution_count": null,
      "outputs": [
        {
          "output_type": "display_data",
          "data": {
            "text/plain": [
              "<Figure size 432x288 with 2 Axes>"
            ],
            "image/png": "[encoded data removed]"
          },
          "metadata": {
            "needs_background": "light"
          }
        }
      ]
    },
    {
      "cell_type": "code",
      "source": [
        "\n"
      ],
      "metadata": {
        "id": "FINhUsVqYQOA"
      },
      "execution_count": null,
      "outputs": []
    }
  ]
}
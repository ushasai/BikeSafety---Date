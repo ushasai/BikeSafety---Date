{
  "nbformat": 4,
  "nbformat_minor": 0,
  "metadata": {
    "colab": {
      "provenance": []
    },
    "kernelspec": {
      "name": "python3",
      "display_name": "Python 3"
    },
    "language_info": {
      "name": "python"
    }
  },
  "cells": [
    {
      "cell_type": "code",
      "execution_count": null,
      "metadata": {
        "id": "83guxcl3XSJK"
      },
      "outputs": [],
      "source": [
        "import tensorflow as tf\n",
        "from tensorflow import keras\n",
        "import numpy as np \n",
        "import pandas as pd\n",
        "import matplotlib.pyplot as plt\n",
        "import seaborn as sns\n",
        "import warnings\n",
        "from scipy import stats\n",
        "from keras.models import Sequential\n",
        "from keras.layers import LSTM, Dense, Flatten, Dropout\n",
        "warnings.filterwarnings('ignore')"
      ]
    },
    {
      "cell_type": "code",
      "source": [
        "test =pd.read_csv('/content/data_test_24-29.csv')\n",
        "train = pd.read_csv('/content/data_train_24-29 (1).csv')\n",
        "\n"
      ],
      "metadata": {
        "id": "QvA1top7XTzU"
      },
      "execution_count": null,
      "outputs": []
    },
    {
      "cell_type": "code",
      "source": [
        "train_data = train.drop(['TIME IN GMT','TIME IN IST','Lat ','Long', 'Time','T','Date'], axis=1)\n",
        "test_data = test.drop(['TIME IN GMT','TIME IN IST','Lat ','Long', 'Time','T','Date'], axis=1)\n",
        "\n"
      ],
      "metadata": {
        "id": "SVnX3K9lXVgL"
      },
      "execution_count": null,
      "outputs": []
    },
    {
      "cell_type": "code",
      "source": [
        "train_data.dropna(axis=0, how='any', inplace=True)\n",
        "train_data.shape"
      ],
      "metadata": {
        "colab": {
          "base_uri": "https://localhost:8080/"
        },
        "id": "GItPS7pdXXle",
        "outputId": "1442fbc7-6551-4578-aa66-f8bea67802da"
      },
      "execution_count": null,
      "outputs": [
        {
          "output_type": "execute_result",
          "data": {
            "text/plain": [
              "(178283, 8)"
            ]
          },
          "metadata": {},
          "execution_count": 4
        }
      ]
    },
    {
      "cell_type": "code",
      "source": [
        "test_data.dropna(axis=0, how='any', inplace=True)\n",
        "test_data.shape"
      ],
      "metadata": {
        "colab": {
          "base_uri": "https://localhost:8080/"
        },
        "id": "Cav1QDS-XZdk",
        "outputId": "0ab650e1-3e15-401f-d22e-83a6612767fd"
      },
      "execution_count": null,
      "outputs": [
        {
          "output_type": "execute_result",
          "data": {
            "text/plain": [
              "(44574, 8)"
            ]
          },
          "metadata": {},
          "execution_count": 5
        }
      ]
    },
    {
      "cell_type": "code",
      "source": [
        "n_time_steps = 104\n",
        "n_features = 7 \n",
        "step = 104\n",
        "n_classes = 5 \n",
        "n_epochs = 50       \n",
        "batch_size = 32   \n",
        "learning_rate = 0.0001\n",
        "l2_loss = 0.0015\n",
        "\n",
        "segments = []\n",
        "labels = []\n"
      ],
      "metadata": {
        "id": "vqfDVXn4XoID"
      },
      "execution_count": null,
      "outputs": []
    },
    {
      "cell_type": "code",
      "source": [
        "for i in range(0,  train_data.shape[0]- n_time_steps, step):  \n",
        "\n",
        "    Ax_tr = train_data['Ax'].values[i: i + n_time_steps]\n",
        "\n",
        "    Ay_tr = train_data['Ay'].values[i: i + n_time_steps]\n",
        "\n",
        "    Az_tr = train_data['Az'].values[i: i + n_time_steps]\n",
        "\n",
        "    Gx_tr = train_data['Gx'].values[i: i + n_time_steps]\n",
        "\n",
        "    Gy_tr = train_data['Gy'].values[i: i + n_time_steps]\n",
        "\n",
        "    Gz_tr = train_data['Gz'].values[i: i + n_time_steps]\n",
        "\n",
        "    Speed_tr = train_data['Speed'].values[i: i + n_time_steps]\n",
        "\n",
        "\n",
        "    label_tr = stats.mode(train_data['Label'][i: i + n_time_steps])[0][0]\n",
        "\n",
        "    segments.append([Ax_tr, Ay_tr, Az_tr, Gx_tr,Gy_tr,Gz_tr,Speed_tr])\n",
        "\n",
        "    labels.append(label_tr)"
      ],
      "metadata": {
        "id": "J8n3ONXxXpdt"
      },
      "execution_count": null,
      "outputs": []
    },
    {
      "cell_type": "code",
      "source": [
        "X_train = np.asarray(segments, dtype= np.float32).reshape(-1, n_time_steps, n_features)\n",
        "\n",
        "y_train = np.asarray(pd.get_dummies(labels), dtype = np.float32)\n",
        "\n",
        "X_train.shape"
      ],
      "metadata": {
        "colab": {
          "base_uri": "https://localhost:8080/"
        },
        "id": "cMJjXkmLXqor",
        "outputId": "955ced45-89f6-4088-9ef0-13969323ef04"
      },
      "execution_count": null,
      "outputs": [
        {
          "output_type": "execute_result",
          "data": {
            "text/plain": [
              "(1714, 104, 7)"
            ]
          },
          "metadata": {},
          "execution_count": 8
        }
      ]
    },
    {
      "cell_type": "code",
      "source": [
        "reshaped_segments = np.asarray(segments, dtype= np.float32).reshape(-1, n_time_steps, n_features)"
      ],
      "metadata": {
        "id": "6u5ASnWtXsnX"
      },
      "execution_count": null,
      "outputs": []
    },
    {
      "cell_type": "code",
      "source": [
        "labels = np.asarray(pd.get_dummies(labels), dtype = np.float32)\n",
        "\n",
        "reshaped_segments.shape"
      ],
      "metadata": {
        "colab": {
          "base_uri": "https://localhost:8080/"
        },
        "id": "ZF8PCciQXuFK",
        "outputId": "ed61e1b3-7ef8-49a9-c944-adc79dafc83d"
      },
      "execution_count": null,
      "outputs": [
        {
          "output_type": "execute_result",
          "data": {
            "text/plain": [
              "(1714, 104, 7)"
            ]
          },
          "metadata": {},
          "execution_count": 10
        }
      ]
    },
    {
      "cell_type": "code",
      "source": [
        "from sklearn.model_selection import train_test_split\n",
        "X_train, X_test, y_train, y_test = train_test_split(reshaped_segments, labels, test_size = 0.25)\n"
      ],
      "metadata": {
        "id": "3O4C1lVoXvQ-"
      },
      "execution_count": null,
      "outputs": []
    },
    {
      "cell_type": "code",
      "source": [
        "\n",
        "import os\n",
        "from tensorflow.keras import Input\n",
        "from tensorflow.keras.models import load_model, Model\n",
        "\n",
        "from tensorflow.keras import backend as K\n",
        "from tensorflow.keras.layers import Dense, Lambda, Dot, Activation, Concatenate, Layer\n",
        "\n",
        "# KERAS_ATTENTION_DEBUG: If set to 1. Will switch to debug mode.\n",
        "# In debug mode, the class Attention is no longer a Keras layer.\n",
        "# What it means in practice is that we can have access to the internal values\n",
        "# of each tensor. If we don't use debug, Keras treats the object\n",
        "# as a layer and we can only get the final output.\n",
        "debug_flag = int(os.environ.get('KERAS_ATTENTION_DEBUG', 0))\n",
        "\n",
        "\n",
        "class Attention(object if debug_flag else Layer):\n",
        "\n",
        "    def __init__(self, units=128, **kwargs):\n",
        "        super(Attention, self).__init__(**kwargs)\n",
        "        self.units = units\n",
        "\n",
        "    # noinspection PyAttributeOutsideInit\n",
        "    def build(self, input_shape):\n",
        "        input_dim = int(input_shape[-1])\n",
        "        with K.name_scope(self.name if not debug_flag else 'attention'):\n",
        "            self.attention_score_vec = Dense(input_dim, use_bias=False, name='attention_score_vec')\n",
        "            self.h_t = Lambda(lambda x: x[:, -1, :], output_shape=(input_dim,), name='last_hidden_state')\n",
        "            self.attention_score = Dot(axes=[1, 2], name='attention_score')\n",
        "            self.attention_weight = Activation('softmax', name='attention_weight')\n",
        "            self.context_vector = Dot(axes=[1, 1], name='context_vector')\n",
        "            self.attention_output = Concatenate(name='attention_output')\n",
        "            self.attention_vector = Dense(self.units, use_bias=False, activation='tanh', name='attention_vector')\n",
        "        if not debug_flag:\n",
        "            # debug: the call to build() is done in call().\n",
        "            super(Attention, self).build(input_shape)\n",
        "\n",
        "    def compute_output_shape(self, input_shape):\n",
        "        return input_shape[0], self.units\n",
        "\n",
        "    def __call__(self, inputs, training=None, **kwargs):\n",
        "        if debug_flag:\n",
        "            return self.call(inputs, training, **kwargs)\n",
        "        else:\n",
        "            return super(Attention, self).__call__(inputs, training, **kwargs)\n",
        "\n",
        "    # noinspection PyUnusedLocal\n",
        "    def call(self, inputs, training=None, **kwargs):\n",
        "        \"\"\"\n",
        "        Many-to-one attention mechanism for Keras.\n",
        "        @param inputs: 3D tensor with shape (batch_size, time_steps, input_dim).\n",
        "        @param training: not used in this layer.\n",
        "        @return: 2D tensor with shape (batch_size, units)\n",
        "        @author: felixhao28, philipperemy.\n",
        "        \"\"\"\n",
        "        if debug_flag:\n",
        "            self.build(inputs.shape)\n",
        "        # Inside dense layer\n",
        "        #              hidden_states            dot               W            =>           score_first_part\n",
        "        # (batch_size, time_steps, hidden_size) dot (hidden_size, hidden_size) => (batch_size, time_steps, hidden_size)\n",
        "        # W is the trainable weight matrix of attention Luong's multiplicative style score\n",
        "        score_first_part = self.attention_score_vec(inputs)\n",
        "        #            score_first_part           dot        last_hidden_state     => attention_weights\n",
        "        # (batch_size, time_steps, hidden_size) dot   (batch_size, hidden_size)  => (batch_size, time_steps)\n",
        "        h_t = self.h_t(inputs)\n",
        "        score = self.attention_score([h_t, score_first_part])\n",
        "        attention_weights = self.attention_weight(score)\n",
        "        # (batch_size, time_steps, hidden_size) dot (batch_size, time_steps) => (batch_size, hidden_size)\n",
        "        context_vector = self.context_vector([inputs, attention_weights])\n",
        "        pre_activation = self.attention_output([context_vector, h_t])\n",
        "        attention_vector = self.attention_vector(pre_activation)\n",
        "        return attention_vector\n",
        "\n",
        "    def get_config(self):\n",
        "        \"\"\"\n",
        "        Returns the config of a the layer. This is used for saving and loading from a model\n",
        "        :return: python dictionary with specs to rebuild layer\n",
        "        \"\"\"\n",
        "        config = super(Attention, self).get_config()\n",
        "        config.update({'units': self.units})\n",
        "        return config"
      ],
      "metadata": {
        "id": "7zDTv1Eepmtu"
      },
      "execution_count": null,
      "outputs": []
    },
    {
      "cell_type": "code",
      "source": [
        "model_input = Input(shape=(X_train.shape[1], X_train.shape[2]))\n",
        "x = LSTM(120, return_sequences=True, dropout=0.1)(model_input)\n",
        "x = Attention(units=32)(x)\n",
        "x = Dense(units = 64, activation='tanh')(x)\n",
        "x = Dense(y_train.shape[1], activation = 'softplus')(x)\n",
        "model = Model(model_input, x)\n",
        "model.compile(loss='categorical_crossentropy', optimizer='adam', metrics=['accuracy'])\n",
        "model.summary()"
      ],
      "metadata": {
        "colab": {
          "base_uri": "https://localhost:8080/"
        },
        "id": "sjrNn133XwbN",
        "outputId": "979da7b0-34a3-4396-e148-8908289de608"
      },
      "execution_count": null,
      "outputs": [
        {
          "output_type": "stream",
          "name": "stdout",
          "text": [
            "Model: \"model\"\n",
            "_________________________________________________________________\n",
            " Layer (type)                Output Shape              Param #   \n",
            "=================================================================\n",
            " input_1 (InputLayer)        [(None, 104, 7)]          0         \n",
            "                                                                 \n",
            " lstm (LSTM)                 (None, 104, 120)          61440     \n",
            "                                                                 \n",
            " attention (Attention)       (None, 32)                22080     \n",
            "                                                                 \n",
            " dense (Dense)               (None, 64)                2112      \n",
            "                                                                 \n",
            " dense_1 (Dense)             (None, 5)                 325       \n",
            "                                                                 \n",
            "=================================================================\n",
            "Total params: 85,957\n",
            "Trainable params: 85,957\n",
            "Non-trainable params: 0\n",
            "_________________________________________________________________\n"
          ]
        }
      ]
    },
    {
      "cell_type": "code",
      "source": [
        "print(X_test.shape)\n",
        "print(y_test.shape)"
      ],
      "metadata": {
        "colab": {
          "base_uri": "https://localhost:8080/"
        },
        "id": "CkcC6u3MXx_S",
        "outputId": "cc1c328c-0307-493b-950c-0212f80d4c05"
      },
      "execution_count": null,
      "outputs": [
        {
          "output_type": "stream",
          "name": "stdout",
          "text": [
            "(429, 104, 7)\n",
            "(429, 5)\n"
          ]
        }
      ]
    },
    {
      "cell_type": "code",
      "source": [
        "\n",
        "history = model.fit(X_train, y_train, epochs = n_epochs, validation_data = (X_test, y_test), batch_size = 32, verbose = 1)\n",
        "\n",
        "#history = model.fit(X_train, y_train, epochs = n_epochs, validation_data = (X_test, y_test), batch_size = batch_size, verbose = 1)\n"
      ],
      "metadata": {
        "colab": {
          "base_uri": "https://localhost:8080/"
        },
        "id": "txzBzWRcX25D",
        "outputId": "0faef12c-d3f5-4958-c64b-93e37f3498fb"
      },
      "execution_count": null,
      "outputs": [
        {
          "output_type": "stream",
          "name": "stdout",
          "text": [
            "Epoch 1/50\n",
            "41/41 [==============================] - 12s 232ms/step - loss: 0.7295 - accuracy: 0.8008 - val_loss: 0.5718 - val_accuracy: 0.8392\n",
            "Epoch 2/50\n",
            "41/41 [==============================] - 10s 233ms/step - loss: 0.5207 - accuracy: 0.8280 - val_loss: 0.3896 - val_accuracy: 0.8392\n",
            "Epoch 3/50\n",
            "41/41 [==============================] - 11s 270ms/step - loss: 0.3971 - accuracy: 0.8545 - val_loss: 0.3080 - val_accuracy: 0.8788\n",
            "Epoch 4/50\n",
            "41/41 [==============================] - 12s 284ms/step - loss: 0.3534 - accuracy: 0.8872 - val_loss: 0.3241 - val_accuracy: 0.8928\n",
            "Epoch 5/50\n",
            "41/41 [==============================] - 6s 145ms/step - loss: 0.3096 - accuracy: 0.8973 - val_loss: 0.2389 - val_accuracy: 0.9277\n",
            "Epoch 6/50\n",
            "41/41 [==============================] - 5s 116ms/step - loss: 0.3039 - accuracy: 0.9004 - val_loss: 0.2381 - val_accuracy: 0.9207\n",
            "Epoch 7/50\n",
            "41/41 [==============================] - 5s 117ms/step - loss: 0.2493 - accuracy: 0.9230 - val_loss: 0.2166 - val_accuracy: 0.9324\n",
            "Epoch 8/50\n",
            "41/41 [==============================] - 5s 116ms/step - loss: 0.2288 - accuracy: 0.9253 - val_loss: 0.2222 - val_accuracy: 0.9184\n",
            "Epoch 9/50\n",
            "41/41 [==============================] - 5s 115ms/step - loss: 0.2420 - accuracy: 0.9253 - val_loss: 0.2006 - val_accuracy: 0.9324\n",
            "Epoch 10/50\n",
            "41/41 [==============================] - 5s 114ms/step - loss: 0.2296 - accuracy: 0.9237 - val_loss: 0.1942 - val_accuracy: 0.9371\n",
            "Epoch 11/50\n",
            "41/41 [==============================] - 5s 119ms/step - loss: 0.1982 - accuracy: 0.9370 - val_loss: 0.1871 - val_accuracy: 0.9394\n",
            "Epoch 12/50\n",
            "41/41 [==============================] - 5s 116ms/step - loss: 0.2125 - accuracy: 0.9284 - val_loss: 0.1954 - val_accuracy: 0.9301\n",
            "Epoch 13/50\n",
            "41/41 [==============================] - 5s 111ms/step - loss: 0.1811 - accuracy: 0.9432 - val_loss: 0.2008 - val_accuracy: 0.9371\n",
            "Epoch 14/50\n",
            "41/41 [==============================] - 4s 109ms/step - loss: 0.1880 - accuracy: 0.9393 - val_loss: 0.1884 - val_accuracy: 0.9510\n",
            "Epoch 15/50\n",
            "41/41 [==============================] - 5s 112ms/step - loss: 0.1814 - accuracy: 0.9447 - val_loss: 0.1737 - val_accuracy: 0.9347\n",
            "Epoch 16/50\n",
            "41/41 [==============================] - 5s 116ms/step - loss: 0.1607 - accuracy: 0.9502 - val_loss: 0.1956 - val_accuracy: 0.9441\n",
            "Epoch 17/50\n",
            "41/41 [==============================] - 4s 110ms/step - loss: 0.1570 - accuracy: 0.9502 - val_loss: 0.1683 - val_accuracy: 0.9627\n",
            "Epoch 18/50\n",
            "41/41 [==============================] - 5s 111ms/step - loss: 0.1583 - accuracy: 0.9471 - val_loss: 0.1700 - val_accuracy: 0.9464\n",
            "Epoch 19/50\n",
            "41/41 [==============================] - 4s 109ms/step - loss: 0.1562 - accuracy: 0.9525 - val_loss: 0.2007 - val_accuracy: 0.9277\n",
            "Epoch 20/50\n",
            "41/41 [==============================] - 5s 115ms/step - loss: 0.1590 - accuracy: 0.9510 - val_loss: 0.2011 - val_accuracy: 0.9441\n",
            "Epoch 21/50\n",
            "41/41 [==============================] - 5s 112ms/step - loss: 0.1579 - accuracy: 0.9564 - val_loss: 0.1663 - val_accuracy: 0.9534\n",
            "Epoch 22/50\n",
            "41/41 [==============================] - 5s 135ms/step - loss: 0.1667 - accuracy: 0.9471 - val_loss: 0.1489 - val_accuracy: 0.9557\n",
            "Epoch 23/50\n",
            "41/41 [==============================] - 6s 143ms/step - loss: 0.1491 - accuracy: 0.9541 - val_loss: 0.1508 - val_accuracy: 0.9534\n",
            "Epoch 24/50\n",
            "41/41 [==============================] - 5s 117ms/step - loss: 0.1295 - accuracy: 0.9603 - val_loss: 0.1906 - val_accuracy: 0.9441\n",
            "Epoch 25/50\n",
            "41/41 [==============================] - 5s 112ms/step - loss: 0.1224 - accuracy: 0.9595 - val_loss: 0.1894 - val_accuracy: 0.9487\n",
            "Epoch 26/50\n",
            "41/41 [==============================] - 5s 119ms/step - loss: 0.1558 - accuracy: 0.9525 - val_loss: 0.1745 - val_accuracy: 0.9534\n",
            "Epoch 27/50\n",
            "41/41 [==============================] - 5s 115ms/step - loss: 0.1313 - accuracy: 0.9541 - val_loss: 0.1560 - val_accuracy: 0.9604\n",
            "Epoch 28/50\n",
            "41/41 [==============================] - 4s 109ms/step - loss: 0.1457 - accuracy: 0.9463 - val_loss: 0.1681 - val_accuracy: 0.9580\n",
            "Epoch 29/50\n",
            "41/41 [==============================] - 5s 115ms/step - loss: 0.1130 - accuracy: 0.9595 - val_loss: 0.1531 - val_accuracy: 0.9580\n",
            "Epoch 30/50\n",
            "41/41 [==============================] - 5s 116ms/step - loss: 0.1251 - accuracy: 0.9588 - val_loss: 0.2012 - val_accuracy: 0.9464\n",
            "Epoch 31/50\n",
            "41/41 [==============================] - 5s 110ms/step - loss: 0.1369 - accuracy: 0.9556 - val_loss: 0.1608 - val_accuracy: 0.9580\n",
            "Epoch 32/50\n",
            "41/41 [==============================] - 4s 108ms/step - loss: 0.1136 - accuracy: 0.9611 - val_loss: 0.1796 - val_accuracy: 0.9487\n",
            "Epoch 33/50\n",
            "41/41 [==============================] - 5s 114ms/step - loss: 0.1168 - accuracy: 0.9611 - val_loss: 0.1386 - val_accuracy: 0.9744\n",
            "Epoch 34/50\n",
            "41/41 [==============================] - 5s 112ms/step - loss: 0.0922 - accuracy: 0.9704 - val_loss: 0.1350 - val_accuracy: 0.9697\n",
            "Epoch 35/50\n",
            "41/41 [==============================] - 4s 109ms/step - loss: 0.1061 - accuracy: 0.9712 - val_loss: 0.1404 - val_accuracy: 0.9650\n",
            "Epoch 36/50\n",
            "41/41 [==============================] - 5s 112ms/step - loss: 0.0972 - accuracy: 0.9704 - val_loss: 0.1922 - val_accuracy: 0.9534\n",
            "Epoch 37/50\n",
            "41/41 [==============================] - 5s 115ms/step - loss: 0.0953 - accuracy: 0.9665 - val_loss: 0.1708 - val_accuracy: 0.9510\n",
            "Epoch 38/50\n",
            "41/41 [==============================] - 5s 119ms/step - loss: 0.0870 - accuracy: 0.9696 - val_loss: 0.1928 - val_accuracy: 0.9580\n",
            "Epoch 39/50\n",
            "41/41 [==============================] - 6s 157ms/step - loss: 0.0642 - accuracy: 0.9805 - val_loss: 0.1737 - val_accuracy: 0.9557\n",
            "Epoch 40/50\n",
            "41/41 [==============================] - 5s 114ms/step - loss: 0.0871 - accuracy: 0.9696 - val_loss: 0.1961 - val_accuracy: 0.9510\n",
            "Epoch 41/50\n",
            "41/41 [==============================] - 5s 113ms/step - loss: 0.0994 - accuracy: 0.9704 - val_loss: 0.2001 - val_accuracy: 0.9510\n",
            "Epoch 42/50\n",
            "41/41 [==============================] - 5s 114ms/step - loss: 0.0876 - accuracy: 0.9704 - val_loss: 0.1630 - val_accuracy: 0.9604\n",
            "Epoch 43/50\n",
            "41/41 [==============================] - 5s 116ms/step - loss: 0.0779 - accuracy: 0.9767 - val_loss: 0.1591 - val_accuracy: 0.9580\n",
            "Epoch 44/50\n",
            "41/41 [==============================] - 5s 118ms/step - loss: 0.0644 - accuracy: 0.9813 - val_loss: 0.1648 - val_accuracy: 0.9627\n",
            "Epoch 45/50\n",
            "41/41 [==============================] - 5s 116ms/step - loss: 0.0669 - accuracy: 0.9790 - val_loss: 0.2044 - val_accuracy: 0.9510\n",
            "Epoch 46/50\n",
            "41/41 [==============================] - 5s 113ms/step - loss: 0.0766 - accuracy: 0.9759 - val_loss: 0.1623 - val_accuracy: 0.9627\n",
            "Epoch 47/50\n",
            "41/41 [==============================] - 5s 112ms/step - loss: 0.0638 - accuracy: 0.9782 - val_loss: 0.1595 - val_accuracy: 0.9557\n",
            "Epoch 48/50\n",
            "41/41 [==============================] - 5s 113ms/step - loss: 0.0785 - accuracy: 0.9798 - val_loss: 0.1717 - val_accuracy: 0.9627\n",
            "Epoch 49/50\n",
            "41/41 [==============================] - 5s 117ms/step - loss: 0.0681 - accuracy: 0.9798 - val_loss: 0.1940 - val_accuracy: 0.9534\n",
            "Epoch 50/50\n",
            "41/41 [==============================] - 5s 118ms/step - loss: 0.0628 - accuracy: 0.9767 - val_loss: 0.1815 - val_accuracy: 0.9510\n"
          ]
        }
      ]
    },
    {
      "cell_type": "code",
      "source": [
        "plt.plot(np.array(history.history['loss']), \"r--\", label = \"Train loss\")\n",
        "# plt.plot(np.array(history.history['accuracy']), \"g--\", label = \"Train accuracy\")\n",
        "plt.plot(np.array(history.history['val_loss']), \"r-\", label = \"Validation loss\")\n",
        "# plt.plot(np.array(history.history['val_accuracy']), \"g-\", label = \"Validation accuracy\")\n",
        "plt.title(\"Training session's progress over iterations\")\n",
        "plt.legend(loc='lower left')\n",
        "plt.ylabel('Training Progress (Loss/Accuracy)')\n",
        "plt.xlabel('Training Epoch')\n",
        "plt.ylim(0) \n",
        "plt.show()"
      ],
      "metadata": {
        "id": "-0rh5jqZX5NA",
        "colab": {
          "base_uri": "https://localhost:8080/",
          "height": 295
        },
        "outputId": "159b59c7-cb58-4acf-90ee-04fb182128cd"
      },
      "execution_count": null,
      "outputs": [
        {
          "output_type": "display_data",
          "data": {
            "text/plain": [
              "<Figure size 432x288 with 1 Axes>"
            ],
            "image/png": "[encoded data removed]"
          },
          "metadata": {
            "needs_background": "light"
          }
        }
      ]
    },
    {
      "cell_type": "code",
      "source": [
        "loss, accuracy = model.evaluate(X_test, y_test, batch_size = batch_size, verbose = 1)\n",
        "print(\"Test Accuracy :\", accuracy)\n",
        "print(\"Test Loss :\", loss)"
      ],
      "metadata": {
        "colab": {
          "base_uri": "https://localhost:8080/"
        },
        "id": "dWJqKkMPYNW8",
        "outputId": "7f315fd0-beb4-4248-c30c-6993c6a66fc7"
      },
      "execution_count": null,
      "outputs": [
        {
          "output_type": "stream",
          "name": "stdout",
          "text": [
            "14/14 [==============================] - 1s 54ms/step - loss: 0.1815 - accuracy: 0.9510\n",
            "Test Accuracy : 0.9510489702224731\n",
            "Test Loss : 0.1814655065536499\n"
          ]
        }
      ]
    },
    {
      "cell_type": "code",
      "source": [
        "import sklearn.metrics as metrics\n",
        "\n",
        "predictions = model.predict(X_test)\n",
        "class_labels = ['BUMP', 'LEFT',  'RIGHT','STOP', 'STRAIGHT']\n",
        "max_test = np.argmax(y_test, axis=1)\n",
        "max_predictions = np.argmax(predictions, axis=1)\n",
        "confusion_matrix = metrics.confusion_matrix(max_test, max_predictions)\n",
        "cmn = confusion_matrix.astype('float') / confusion_matrix.sum(axis=1)[:, np.newaxis]\n",
        "sns.heatmap(cmn, xticklabels = class_labels, yticklabels = class_labels, annot = True, linewidths = 0.1, fmt='2f', cmap = 'YlGnBu')\n",
        "plt.title(\"Confusion matrix\", fontsize = 15)\n",
        "plt.ylabel('True label')\n",
        "plt.xlabel('Predicted label')\n",
        "plt.show()"
      ],
      "metadata": {
        "colab": {
          "base_uri": "https://localhost:8080/",
          "height": 297
        },
        "id": "VSSnqn6cYPBr",
        "outputId": "98f3f51d-6e17-4a84-f084-1fd4ccfed741"
      },
      "execution_count": null,
      "outputs": [
        {
          "output_type": "display_data",
          "data": {
            "text/plain": [
              "<Figure size 432x288 with 2 Axes>"
            ],
            "image/png": "[encoded data removed]"
          },
          "metadata": {
            "needs_background": "light"
          }
        }
      ]
    },
    {
      "cell_type": "code",
      "source": [
        "\n"
      ],
      "metadata": {
        "id": "FINhUsVqYQOA"
      },
      "execution_count": null,
      "outputs": []
    }
  ]
}